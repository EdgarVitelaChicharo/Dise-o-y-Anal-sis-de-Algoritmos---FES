{
  "nbformat": 4,
  "nbformat_minor": 0,
  "metadata": {
    "colab": {
      "name": "Algoritmos de ordenamiento.ipynb",
      "provenance": [],
      "collapsed_sections": [],
      "authorship_tag": "ABX9TyPg5QGINGBy8iulnCvumhAy",
      "include_colab_link": true
    },
    "kernelspec": {
      "name": "python3",
      "display_name": "Python 3"
    },
    "language_info": {
      "name": "python"
    }
  },
  "cells": [
    {
      "cell_type": "markdown",
      "metadata": {
        "id": "view-in-github",
        "colab_type": "text"
      },
      "source": [
        "<a href=\"https://colab.research.google.com/github/EdgarVitelaChicharo/Dise-o-y-Anal-sis-de-Algoritmos---FES/blob/main/Algoritmos_de_ordenamiento.ipynb\" target=\"_parent\"><img src=\"https://colab.research.google.com/assets/colab-badge.svg\" alt=\"Open In Colab\"/></a>"
      ]
    },
    {
      "cell_type": "markdown",
      "metadata": {
        "id": "XyaZwIUXMOln"
      },
      "source": [
        "Bubble sort"
      ]
    },
    {
      "cell_type": "code",
      "metadata": {
        "colab": {
          "base_uri": "https://localhost:8080/"
        },
        "id": "bbFITJWmMhK6",
        "outputId": "a4966e71-15f1-42a6-e640-e8cedc64e3b4"
      },
      "source": [
        "#info = [8,5,9,3]\n",
        "info = [6568,5,9,3,4,64,342,34,56,72,12,33,3434,54,0,35,4]\n",
        "# range(<inicio>, <stop>,<incremento>)\n",
        "# range( 3,0,-1)\n",
        "# intercambio -->   a , b = b  , a\n",
        "\n",
        "def burbuja ( data ):    # M O(n)    P  O(1)\n",
        "    tam = len(data)      # M O(1)    P  O(1)\n",
        "    for tope in range (tam-1,0,-1):\n",
        "        for pivote in range(tope):\n",
        "            if data[ pivote ] > data[ pivote + 1]:\n",
        "                data [pivote],data[pivote + 1]=data[pivote+1],data[pivote]\n",
        "                # M O( 0 )    P  O(2n^2)\n",
        "    \n",
        "    return data    # M O(0)    P  O(1)\n",
        "\n",
        "# Memoria           O( n+3 )         =    O( n )\n",
        "# Procesamiento     O( 3 + 2n^2 )    =    O( n^2 )\n",
        "\n",
        "burbuja(info)\n",
        "\n"
      ],
      "execution_count": null,
      "outputs": [
        {
          "output_type": "execute_result",
          "data": {
            "text/plain": [
              "[0, 3, 4, 4, 5, 9, 12, 33, 34, 35, 54, 56, 64, 72, 342, 3434, 6568]"
            ]
          },
          "metadata": {},
          "execution_count": 9
        }
      ]
    },
    {
      "cell_type": "markdown",
      "metadata": {
        "id": "lz7Mbyp5Wx2W"
      },
      "source": [
        "Selection Sort"
      ]
    },
    {
      "cell_type": "code",
      "metadata": {
        "colab": {
          "base_uri": "https://localhost:8080/"
        },
        "id": "d8QIcZi2W52v",
        "outputId": "6f23df8c-67f8-4ad5-8030-7cc5abb3d259"
      },
      "source": [
        "def selection_sort (data):    # M O(n)    P  O(1)\n",
        "    for pivote in range( len(data) ):    # M O(1)    P  O(na)\n",
        "        min = pivote    # M O(1)    P  O(n)\n",
        "        for index in range( pivote, len(data), 1 ):    # M O(1)    P  O(na)\n",
        "            if data[index] < data[min]:    # M O(0)    P  O(na)\n",
        "                min = index    # M O(0)    P  O(n^2)\n",
        "        data[pivote] , data[min] = data[min] , data[pivote]    # M O(0)    P  O(2n^2)\n",
        "        print(f\" --> {data} <-- \")    # M O(0)    P  O(0)\n",
        "    return data    # M O(0)    P  O(1)\n",
        "# M O(n)    P  O(1 + n + n^2 + 2n + 1)\n",
        "# M O(n)    P  O(n^2 )\n",
        "info = [6568,5,9,3,4,64,342,34,56,72,12,33,3434,54,0,35,4]\n",
        "print (selection_sort (info) )"
      ],
      "execution_count": null,
      "outputs": [
        {
          "output_type": "stream",
          "name": "stdout",
          "text": [
            " --> [0, 5, 9, 3, 4, 64, 342, 34, 56, 72, 12, 33, 3434, 54, 6568, 35, 4] <-- \n",
            " --> [0, 3, 9, 5, 4, 64, 342, 34, 56, 72, 12, 33, 3434, 54, 6568, 35, 4] <-- \n",
            " --> [0, 3, 4, 5, 9, 64, 342, 34, 56, 72, 12, 33, 3434, 54, 6568, 35, 4] <-- \n",
            " --> [0, 3, 4, 4, 9, 64, 342, 34, 56, 72, 12, 33, 3434, 54, 6568, 35, 5] <-- \n",
            " --> [0, 3, 4, 4, 5, 64, 342, 34, 56, 72, 12, 33, 3434, 54, 6568, 35, 9] <-- \n",
            " --> [0, 3, 4, 4, 5, 9, 342, 34, 56, 72, 12, 33, 3434, 54, 6568, 35, 64] <-- \n",
            " --> [0, 3, 4, 4, 5, 9, 12, 34, 56, 72, 342, 33, 3434, 54, 6568, 35, 64] <-- \n",
            " --> [0, 3, 4, 4, 5, 9, 12, 33, 56, 72, 342, 34, 3434, 54, 6568, 35, 64] <-- \n",
            " --> [0, 3, 4, 4, 5, 9, 12, 33, 34, 72, 342, 56, 3434, 54, 6568, 35, 64] <-- \n",
            " --> [0, 3, 4, 4, 5, 9, 12, 33, 34, 35, 342, 56, 3434, 54, 6568, 72, 64] <-- \n",
            " --> [0, 3, 4, 4, 5, 9, 12, 33, 34, 35, 54, 56, 3434, 342, 6568, 72, 64] <-- \n",
            " --> [0, 3, 4, 4, 5, 9, 12, 33, 34, 35, 54, 56, 3434, 342, 6568, 72, 64] <-- \n",
            " --> [0, 3, 4, 4, 5, 9, 12, 33, 34, 35, 54, 56, 64, 342, 6568, 72, 3434] <-- \n",
            " --> [0, 3, 4, 4, 5, 9, 12, 33, 34, 35, 54, 56, 64, 72, 6568, 342, 3434] <-- \n",
            " --> [0, 3, 4, 4, 5, 9, 12, 33, 34, 35, 54, 56, 64, 72, 342, 6568, 3434] <-- \n",
            " --> [0, 3, 4, 4, 5, 9, 12, 33, 34, 35, 54, 56, 64, 72, 342, 3434, 6568] <-- \n",
            " --> [0, 3, 4, 4, 5, 9, 12, 33, 34, 35, 54, 56, 64, 72, 342, 3434, 6568] <-- \n",
            "[0, 3, 4, 4, 5, 9, 12, 33, 34, 35, 54, 56, 64, 72, 342, 3434, 6568]\n"
          ]
        }
      ]
    },
    {
      "cell_type": "markdown",
      "metadata": {
        "id": "xdbJmSyaz2by"
      },
      "source": [
        "Insertion Sort\n",
        "\n",
        "Como cuando juegas cartas"
      ]
    },
    {
      "cell_type": "code",
      "metadata": {
        "colab": {
          "base_uri": "https://localhost:8080/"
        },
        "id": "rJVrWWWV0-yW",
        "outputId": "b2351e55-ede4-41db-eca2-68699b0b84b0"
      },
      "source": [
        "def insertion_sort (data):    # M O(n)    P  O(1)\n",
        "    print(f\"original {data}\")    # M O(0)    P  O(1)\n",
        "    #Toda la lógica de Insertion Sort\n",
        "    for pivote in range( 1, len(data), 1):    # M O(1)    P  O(na)\n",
        "        for index in range(0, pivote+1, 1):    # M O(1)    P  O(na)\n",
        "            if data[pivote] < data[index]:    # M O(0)    P  O(na)\n",
        "                tmp = data[pivote]    # M O(1)    P  O(n)\n",
        "                #recorrer a la derecha\n",
        "                for i in range(pivote, index, -1):    # M O(1)    P  O(na)\n",
        "                    data[i] = data [i-1]    # M O(0)    P  O(n*m)\n",
        "                data[index] = tmp    # M O(0)    P  O(n)\n",
        "        print(f\"pasada {pivote} --> {data} <--\")    # M O(0)    P  O(1)\n",
        "    return data    # M O(0)    P  O(1)\n",
        "\n",
        "# M O(n+4)    P  O(4 + 2n + n * m)  -->  T(n)\n",
        "# M O(n)      P  O(n + n^2)\n",
        "# M O(n)      P  O(n^2)\n",
        "\n",
        "\n",
        "info = [10, 51, 2, 18, 4, 31, 12,5]\n",
        "\n",
        "print(insertion_sort(info))"
      ],
      "execution_count": null,
      "outputs": [
        {
          "output_type": "stream",
          "name": "stdout",
          "text": [
            "original [10, 51, 2, 18, 4, 31, 12, 5]\n",
            "pasada 1 --> [10, 51, 2, 18, 4, 31, 12, 5] <--\n",
            "pasada 2 --> [2, 10, 51, 18, 4, 31, 12, 5] <--\n",
            "pasada 3 --> [2, 10, 18, 51, 4, 31, 12, 5] <--\n",
            "pasada 4 --> [2, 4, 10, 18, 51, 31, 12, 5] <--\n",
            "pasada 5 --> [2, 4, 10, 18, 31, 51, 12, 5] <--\n",
            "pasada 6 --> [2, 4, 10, 12, 18, 31, 51, 5] <--\n",
            "pasada 7 --> [2, 4, 5, 10, 12, 18, 31, 51] <--\n",
            "[2, 4, 5, 10, 12, 18, 31, 51]\n"
          ]
        }
      ]
    },
    {
      "cell_type": "markdown",
      "metadata": {
        "id": "FPRuLW1OFl2M"
      },
      "source": [
        "Merge Sort"
      ]
    },
    {
      "cell_type": "code",
      "metadata": {
        "id": "IJb0FaFRwRt_"
      },
      "source": [
        "def mergeSort(data):\n",
        "    tam = len( data )\n",
        "    print(f\" recibido { data }\")\n",
        "    if tam == 1: #caso base de la recursividad\n",
        "        return data\n",
        "    \n",
        "    mid = tam // 2\n",
        "    I = mergeSort( data[0 : mid : 1] )\n",
        "    D = mergeSort( data[mid :  : 1] )\n",
        "    print(f\"{I}\\t\\t {D}\")\n",
        "    return merge ( I , D)\n",
        "\n",
        "def merge(I , D ):\n",
        "    resultado = [] * (len(I) + len(D))\n",
        "    i = 0\n",
        "    d = 0\n",
        "    r = 0\n",
        "    while i < len( I ) and d < len( D )\n",
        "\n",
        "    # Procesar los faltantes ya sea a la izquierda"
      ],
      "execution_count": 17,
      "outputs": []
    },
    {
      "cell_type": "code",
      "metadata": {
        "colab": {
          "base_uri": "https://localhost:8080/",
          "height": 503
        },
        "id": "JmZPt28VzMZ4",
        "outputId": "4ef1a366-df6c-41ee-f8df-e731f1be6428"
      },
      "source": [
        "numeros = [10,51,2,18,4,31,12,5]\n",
        "mergeSort(numeros)"
      ],
      "execution_count": 19,
      "outputs": [
        {
          "output_type": "stream",
          "name": "stdout",
          "text": [
            " recibido [10, 51, 2, 18, 4, 31, 12, 5]\n",
            " recibido [10, 51, 2, 18]\n",
            " recibido [10, 51]\n",
            " recibido [10]\n",
            " recibido [51]\n",
            "[10]\t\t [51]\n",
            " recibido [2, 18]\n",
            " recibido [2]\n",
            " recibido [18]\n",
            "[2]\t\t [18]\n",
            "None\t\t None\n"
          ]
        },
        {
          "output_type": "error",
          "ename": "TypeError",
          "evalue": "ignored",
          "traceback": [
            "\u001b[0;31m---------------------------------------------------------------------------\u001b[0m",
            "\u001b[0;31mTypeError\u001b[0m                                 Traceback (most recent call last)",
            "\u001b[0;32m<ipython-input-19-c2bdedae9296>\u001b[0m in \u001b[0;36m<module>\u001b[0;34m()\u001b[0m\n\u001b[1;32m      1\u001b[0m \u001b[0mnumeros\u001b[0m \u001b[0;34m=\u001b[0m \u001b[0;34m[\u001b[0m\u001b[0;36m10\u001b[0m\u001b[0;34m,\u001b[0m\u001b[0;36m51\u001b[0m\u001b[0;34m,\u001b[0m\u001b[0;36m2\u001b[0m\u001b[0;34m,\u001b[0m\u001b[0;36m18\u001b[0m\u001b[0;34m,\u001b[0m\u001b[0;36m4\u001b[0m\u001b[0;34m,\u001b[0m\u001b[0;36m31\u001b[0m\u001b[0;34m,\u001b[0m\u001b[0;36m12\u001b[0m\u001b[0;34m,\u001b[0m\u001b[0;36m5\u001b[0m\u001b[0;34m]\u001b[0m\u001b[0;34m\u001b[0m\u001b[0;34m\u001b[0m\u001b[0m\n\u001b[0;32m----> 2\u001b[0;31m \u001b[0mmergeSort\u001b[0m\u001b[0;34m(\u001b[0m\u001b[0mnumeros\u001b[0m\u001b[0;34m)\u001b[0m\u001b[0;34m\u001b[0m\u001b[0;34m\u001b[0m\u001b[0m\n\u001b[0m",
            "\u001b[0;32m<ipython-input-17-b50052a1d886>\u001b[0m in \u001b[0;36mmergeSort\u001b[0;34m(data)\u001b[0m\n\u001b[1;32m      6\u001b[0m \u001b[0;34m\u001b[0m\u001b[0m\n\u001b[1;32m      7\u001b[0m     \u001b[0mmid\u001b[0m \u001b[0;34m=\u001b[0m \u001b[0mtam\u001b[0m \u001b[0;34m//\u001b[0m \u001b[0;36m2\u001b[0m\u001b[0;34m\u001b[0m\u001b[0;34m\u001b[0m\u001b[0m\n\u001b[0;32m----> 8\u001b[0;31m     \u001b[0mI\u001b[0m \u001b[0;34m=\u001b[0m \u001b[0mmergeSort\u001b[0m\u001b[0;34m(\u001b[0m \u001b[0mdata\u001b[0m\u001b[0;34m[\u001b[0m\u001b[0;36m0\u001b[0m \u001b[0;34m:\u001b[0m \u001b[0mmid\u001b[0m \u001b[0;34m:\u001b[0m \u001b[0;36m1\u001b[0m\u001b[0;34m]\u001b[0m \u001b[0;34m)\u001b[0m\u001b[0;34m\u001b[0m\u001b[0;34m\u001b[0m\u001b[0m\n\u001b[0m\u001b[1;32m      9\u001b[0m     \u001b[0mD\u001b[0m \u001b[0;34m=\u001b[0m \u001b[0mmergeSort\u001b[0m\u001b[0;34m(\u001b[0m \u001b[0mdata\u001b[0m\u001b[0;34m[\u001b[0m\u001b[0mmid\u001b[0m \u001b[0;34m:\u001b[0m  \u001b[0;34m:\u001b[0m \u001b[0;36m1\u001b[0m\u001b[0;34m]\u001b[0m \u001b[0;34m)\u001b[0m\u001b[0;34m\u001b[0m\u001b[0;34m\u001b[0m\u001b[0m\n\u001b[1;32m     10\u001b[0m     \u001b[0mprint\u001b[0m\u001b[0;34m(\u001b[0m\u001b[0;34mf\"{I}\\t\\t {D}\"\u001b[0m\u001b[0;34m)\u001b[0m\u001b[0;34m\u001b[0m\u001b[0;34m\u001b[0m\u001b[0m\n",
            "\u001b[0;32m<ipython-input-17-b50052a1d886>\u001b[0m in \u001b[0;36mmergeSort\u001b[0;34m(data)\u001b[0m\n\u001b[1;32m      9\u001b[0m     \u001b[0mD\u001b[0m \u001b[0;34m=\u001b[0m \u001b[0mmergeSort\u001b[0m\u001b[0;34m(\u001b[0m \u001b[0mdata\u001b[0m\u001b[0;34m[\u001b[0m\u001b[0mmid\u001b[0m \u001b[0;34m:\u001b[0m  \u001b[0;34m:\u001b[0m \u001b[0;36m1\u001b[0m\u001b[0;34m]\u001b[0m \u001b[0;34m)\u001b[0m\u001b[0;34m\u001b[0m\u001b[0;34m\u001b[0m\u001b[0m\n\u001b[1;32m     10\u001b[0m     \u001b[0mprint\u001b[0m\u001b[0;34m(\u001b[0m\u001b[0;34mf\"{I}\\t\\t {D}\"\u001b[0m\u001b[0;34m)\u001b[0m\u001b[0;34m\u001b[0m\u001b[0;34m\u001b[0m\u001b[0m\n\u001b[0;32m---> 11\u001b[0;31m     \u001b[0;32mreturn\u001b[0m \u001b[0mmerge\u001b[0m \u001b[0;34m(\u001b[0m \u001b[0mI\u001b[0m \u001b[0;34m,\u001b[0m \u001b[0mD\u001b[0m\u001b[0;34m)\u001b[0m\u001b[0;34m\u001b[0m\u001b[0;34m\u001b[0m\u001b[0m\n\u001b[0m\u001b[1;32m     12\u001b[0m \u001b[0;34m\u001b[0m\u001b[0m\n\u001b[1;32m     13\u001b[0m \u001b[0;32mdef\u001b[0m \u001b[0mmerge\u001b[0m\u001b[0;34m(\u001b[0m\u001b[0mI\u001b[0m \u001b[0;34m,\u001b[0m \u001b[0mD\u001b[0m \u001b[0;34m)\u001b[0m\u001b[0;34m:\u001b[0m\u001b[0;34m\u001b[0m\u001b[0;34m\u001b[0m\u001b[0m\n",
            "\u001b[0;32m<ipython-input-17-b50052a1d886>\u001b[0m in \u001b[0;36mmerge\u001b[0;34m(I, D)\u001b[0m\n\u001b[1;32m     12\u001b[0m \u001b[0;34m\u001b[0m\u001b[0m\n\u001b[1;32m     13\u001b[0m \u001b[0;32mdef\u001b[0m \u001b[0mmerge\u001b[0m\u001b[0;34m(\u001b[0m\u001b[0mI\u001b[0m \u001b[0;34m,\u001b[0m \u001b[0mD\u001b[0m \u001b[0;34m)\u001b[0m\u001b[0;34m:\u001b[0m\u001b[0;34m\u001b[0m\u001b[0;34m\u001b[0m\u001b[0m\n\u001b[0;32m---> 14\u001b[0;31m     \u001b[0mresultado\u001b[0m \u001b[0;34m=\u001b[0m \u001b[0;34m[\u001b[0m\u001b[0;34m]\u001b[0m \u001b[0;34m*\u001b[0m \u001b[0;34m(\u001b[0m\u001b[0mlen\u001b[0m\u001b[0;34m(\u001b[0m\u001b[0mI\u001b[0m\u001b[0;34m)\u001b[0m \u001b[0;34m+\u001b[0m \u001b[0mlen\u001b[0m\u001b[0;34m(\u001b[0m\u001b[0mD\u001b[0m\u001b[0;34m)\u001b[0m\u001b[0;34m)\u001b[0m\u001b[0;34m\u001b[0m\u001b[0;34m\u001b[0m\u001b[0m\n\u001b[0m\u001b[1;32m     15\u001b[0m \u001b[0;34m\u001b[0m\u001b[0m\n",
            "\u001b[0;31mTypeError\u001b[0m: object of type 'NoneType' has no len()"
          ]
        }
      ]
    },
    {
      "cell_type": "code",
      "metadata": {
        "colab": {
          "base_uri": "https://localhost:8080/"
        },
        "id": "ELkdOiR2wx29",
        "outputId": "be9f70c2-d3db-404a-b903-f4067c5d88a8"
      },
      "source": [
        "frutas=['peras','manzanas','kiwi','limon','aguacate','uva','sandia']\n",
        "print(frutas)\n",
        "#Slicing sirve para sacar rebanadas de un iterable.\n",
        "#frutas[<ini>:<stop>:<incremento>]\n",
        "#Nota: el stop no se incluye, se incluye el valor previo\n",
        "\n",
        "print( frutas[0 : 3 : 1] )\n",
        "print( frutas[2 : 6 : 1])\n",
        "print( len(frutas) )\n",
        "mid = len(frutas) // 2\n",
        "print( mid )\n",
        "print( frutas[0 : mid : 1])\n",
        "print( frutas[mid :  : 1])"
      ],
      "execution_count": 2,
      "outputs": [
        {
          "output_type": "stream",
          "name": "stdout",
          "text": [
            "['peras', 'manzanas', 'kiwi', 'limon', 'aguacate', 'uva', 'sandia']\n",
            "['peras', 'manzanas', 'kiwi']\n",
            "['kiwi', 'limon', 'aguacate', 'uva']\n",
            "7\n",
            "3\n",
            "['peras', 'manzanas', 'kiwi']\n",
            "['limon', 'aguacate', 'uva', 'sandia']\n"
          ]
        }
      ]
    },
    {
      "cell_type": "code",
      "metadata": {
        "colab": {
          "base_uri": "https://localhost:8080/"
        },
        "id": "tDV4cGiQ10ph",
        "outputId": "33a86dc4-90a1-40e9-c653-b7401af7106c"
      },
      "source": [
        "I = [ 2 , 8 ]\n",
        "D = [ 3 , 22 ]\n",
        "resultado = [0] * ( len (I) * len(D))\n",
        "print(resultado)"
      ],
      "execution_count": 16,
      "outputs": [
        {
          "output_type": "stream",
          "name": "stdout",
          "text": [
            "[None, None, None, None]\n"
          ]
        }
      ]
    }
  ]
}