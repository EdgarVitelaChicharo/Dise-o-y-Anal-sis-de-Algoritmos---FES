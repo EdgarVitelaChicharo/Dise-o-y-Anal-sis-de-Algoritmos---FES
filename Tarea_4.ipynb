{
  "nbformat": 4,
  "nbformat_minor": 0,
  "metadata": {
    "colab": {
      "name": "Tarea 4.ipynb",
      "provenance": [],
      "collapsed_sections": [],
      "authorship_tag": "ABX9TyMe02r760ethAHwoBLK5K5X",
      "include_colab_link": true
    },
    "kernelspec": {
      "name": "python3",
      "display_name": "Python 3"
    },
    "language_info": {
      "name": "python"
    }
  },
  "cells": [
    {
      "cell_type": "markdown",
      "metadata": {
        "id": "view-in-github",
        "colab_type": "text"
      },
      "source": [
        "<a href=\"https://colab.research.google.com/github/EdgarVitelaChicharo/Dise-o-y-Anal-sis-de-Algoritmos---FES/blob/main/Tarea_4.ipynb\" target=\"_parent\"><img src=\"https://colab.research.google.com/assets/colab-badge.svg\" alt=\"Open In Colab\"/></a>"
      ]
    },
    {
      "cell_type": "markdown",
      "metadata": {
        "id": "XnC4wp9aywK0"
      },
      "source": [
        "Se desea encontrara todos los palíndromos que existen en la franja horaria de un día completo. Tomando como horario inicial las 00:00 hrs y como horario final las 23:59hrs, el algoritmo debe mostrar en pantalla todos los palíndromos existentes en ese rango, al final debe mostrar el conteo total de palíndromos existentes.\n"
      ]
    },
    {
      "cell_type": "code",
      "metadata": {
        "colab": {
          "base_uri": "https://localhost:8080/"
        },
        "id": "_dTNqvQRy7Fv",
        "outputId": "4f5f75ab-1d99-4358-c1a8-abe5aa69392e"
      },
      "source": [
        "  def invertir_cadena(cadena):\n",
        "    return cadena[::-1]\n",
        "\n",
        "  horas = 00\n",
        "  minutos = 00\n",
        "\n",
        "  for horas in range( 24 ):\n",
        "      for minutos in range(60):\n",
        "        shrs = str(horas)\n",
        "        if len(shrs) == 1:\n",
        "          shrs = \"0\"+shrs\n",
        "        smns = str(minutos)\n",
        "        if len(smns) == 1:\n",
        "          smns = \"0\"+smns\n",
        "\n",
        "        rsmns = invertir_cadena(smns)\n",
        "\n",
        "        if shrs == rsmns:\n",
        "          rhrs = str(horas)\n",
        "          rmns = str(minutos)\n",
        "          if len(rhrs) == 1:\n",
        "            rhrs = \"0\"+rhrs\n",
        "          if len(rmns) == 1:\n",
        "            rmns = \"0\"+rmns\n",
        "          print(rhrs,\":\",rmns)\n"
      ],
      "execution_count": null,
      "outputs": [
        {
          "output_type": "stream",
          "name": "stdout",
          "text": [
            "00 : 00\n",
            "01 : 10\n",
            "02 : 20\n",
            "03 : 30\n",
            "04 : 40\n",
            "05 : 50\n",
            "10 : 01\n",
            "11 : 11\n",
            "12 : 21\n",
            "13 : 31\n",
            "14 : 41\n",
            "15 : 51\n",
            "20 : 02\n",
            "21 : 12\n",
            "22 : 22\n",
            "23 : 32\n"
          ]
        }
      ]
    }
  ]
}