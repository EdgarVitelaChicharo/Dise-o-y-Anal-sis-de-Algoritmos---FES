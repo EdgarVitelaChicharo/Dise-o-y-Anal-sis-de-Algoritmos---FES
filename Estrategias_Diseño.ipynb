{
  "nbformat": 4,
  "nbformat_minor": 0,
  "metadata": {
    "colab": {
      "name": "Estrategias_Diseño.ipynb",
      "provenance": [],
      "authorship_tag": "ABX9TyNeHug7Y0DDip/ABTTNXPB2",
      "include_colab_link": true
    },
    "kernelspec": {
      "name": "python3",
      "display_name": "Python 3"
    },
    "language_info": {
      "name": "python"
    }
  },
  "cells": [
    {
      "cell_type": "markdown",
      "metadata": {
        "id": "view-in-github",
        "colab_type": "text"
      },
      "source": [
        "<a href=\"https://colab.research.google.com/github/EdgarVitelaChicharo/Dise-o-y-Anal-sis-de-Algoritmos---FES/blob/main/Estrategias_Dise%C3%B1o.ipynb\" target=\"_parent\"><img src=\"https://colab.research.google.com/assets/colab-badge.svg\" alt=\"Open In Colab\"/></a>"
      ]
    },
    {
      "cell_type": "markdown",
      "metadata": {
        "id": "aOKFiG0iYcZ-"
      },
      "source": [
        "#Fuerza Bruta\n"
      ]
    },
    {
      "cell_type": "markdown",
      "metadata": {
        "id": "XoPaH-9UYiNJ"
      },
      "source": [
        "Ejemplo 1, busqueda de patrones de texto."
      ]
    },
    {
      "cell_type": "code",
      "metadata": {
        "colab": {
          "base_uri": "https://localhost:8080/"
        },
        "id": "4-IYM0dfYjxI",
        "outputId": "3d5f5b28-4aa8-43a7-f9d9-8bcca00990d1"
      },
      "source": [
        "def string_match_brute( A , P ):\n",
        "    for i in range( len(A) - len(P) + 1   ):\n",
        "        for j in range( len(P) ):\n",
        "            if P[j] == A[ i+j ]:\n",
        "                pass\n",
        "            else:\n",
        "                break\n",
        "        if j+1 == len(P) and A[i+j] == P[ j ]:\n",
        "            print(f\"Se encontró en la posición:{ i }\")\n",
        "\n",
        "entrada = \"001110010101101110101101\"\n",
        "patron = \"01101\"\n",
        "string_match_brute(entrada , patron)\n",
        "              "
      ],
      "execution_count": null,
      "outputs": [
        {
          "output_type": "stream",
          "name": "stdout",
          "text": [
            "Se encontró en la posición:10\n",
            "Se encontró en la posición:19\n"
          ]
        }
      ]
    },
    {
      "cell_type": "code",
      "metadata": {
        "colab": {
          "base_uri": "https://localhost:8080/"
        },
        "id": "_UeNWewmYttQ",
        "outputId": "4a05ad26-5a44-4a11-c20d-b8170c5f6e0f"
      },
      "source": [
        "# Inicio del método\n",
        "def string_match_brute( A , P ):\n",
        "    \n",
        "    cantidad = 0\n",
        "    indices = []\n",
        "\n",
        "    for i in range(len(entrada)):\n",
        "        if palabra == entrada[i]:\n",
        "            cantidad += 1\n",
        "            indices.append(i)\n",
        "\n",
        "    print(f\"{palabra} se repite {cantidad} veces\")\n",
        "    print(f\"{palabra}  esta en los indices {indices}\")\n",
        "# Fin del método\n",
        "\n",
        "archivo = open('/content/Quijote.txt')\n",
        "texto = archivo.read()\n",
        "quitar = \",;:./¿?¡!<>{}[]'()-–_‘»\"\n",
        "\n",
        "for caracter in quitar:\n",
        "    texto = texto.replace(caracter,\"\")\n",
        "\n",
        "texto = texto.lower()\n",
        "entrada = texto.split(\" \")\n",
        "\n",
        "palabra = \"don\"\n",
        "\n",
        "string_match_brute(entrada , palabra)"
      ],
      "execution_count": null,
      "outputs": [
        {
          "output_type": "stream",
          "name": "stdout",
          "text": [
            "don se repite 1585 veces\n",
            "don  esta en los indices [0, 21, 40, 363, 444, 538, 603, 640, 681, 729, 763, 770, 863, 925, 943, 1056, 1148, 1211, 2335, 2810, 2839, 2990, 3023, 3065, 3073, 3127, 3169, 3351, 3366, 3544, 3562, 3708, 3866, 3897, 4024, 4037, 4064, 4247, 4297, 4479, 4587, 4605, 4716, 5016, 5067, 5124, 5206, 5293, 5352, 5445, 5500, 5567, 5590, 5629, 5693, 5704, 5962, 6025, 6038, 6122, 6214, 6358, 6388, 6586, 6650, 6665, 6843, 6883, 7010, 7021, 7101, 7395, 7410, 7581, 7639, 7860, 7973, 8003, 8124, 8434, 8824, 9005, 9027, 9076, 9103, 9327, 9685, 9862, 10008, 10206, 10245, 10284, 10508, 11654, 11818, 11850, 11980, 12636, 12651, 12694, 12831, 12929, 12979, 13453, 13784, 14587, 14669, 14694, 15043, 15185, 15230, 15298, 15322, 15346, 15398, 15462, 15577, 15738, 15778, 16264, 16360, 16416, 16910, 16968, 17087, 17107, 17139, 17168, 17203, 17232, 17274, 17300, 17362, 17500, 17672, 17729, 17851, 18310, 19114, 19150, 19227, 19374, 19460, 19555, 19690, 19741, 19762, 19800, 19823, 19885, 19948, 20018, 20110, 20221, 20295, 20395, 20486, 20556, 20630, 20700, 20822, 20879, 20994, 21146, 21253, 21336, 21432, 21525, 21860, 21894, 22055, 22575, 22671, 22682, 22728, 22782, 22939, 23030, 23100, 23157, 23171, 23299, 23320, 23505, 23745, 23772, 23929, 24259, 24325, 24412, 24527, 24542, 24728, 24794, 25083, 25231, 25293, 25402, 25416, 25656, 25776, 25812, 25902, 26058, 26086, 26098, 26177, 26201, 26311, 26384, 26448, 26456, 26623, 26750, 26873, 26894, 26912, 26973, 27044, 27217, 27340, 27452, 27976, 28097, 28153, 28220, 28289, 28551, 28660, 28707, 28757, 28860, 28868, 28918, 28952, 31374, 31391, 31779, 31814, 31871, 31874, 31950, 31986, 32117, 32131, 32294, 32313, 32373, 32464, 33578, 33722, 33731, 33782, 33833, 33844, 33878, 33929, 33969, 34119, 34165, 34190, 34218, 34297, 34390, 34417, 34639, 34683, 34732, 34903, 35097, 35109, 35210, 35309, 35325, 35380, 35442, 35478, 35509, 35547, 35598, 35637, 35737, 35779, 35860, 35986, 36080, 36088, 36107, 36366, 36485, 36887, 37035, 37066, 37071, 37118, 37178, 37405, 37495, 37692, 37724, 37767, 37775, 37797, 37857, 38217, 38220, 38273, 38528, 39490, 39563, 39567, 39657, 39671, 39826, 39920, 39961, 40061, 40274, 40292, 40362, 40432, 40517, 40580, 40648, 40706, 40796, 40840, 40922, 41048, 41071, 41203, 41286, 41409, 41459, 41561, 41579, 41722, 41849, 41920, 41938, 42085, 42180, 42265, 42286, 42299, 42379, 42457, 42494, 42586, 42604, 42620, 42750, 42755, 43237, 43280, 43283, 43383, 43386, 43412, 43416, 43430, 43446, 43452, 43554, 43576, 43594, 43604, 43647, 43671, 43689, 43746, 43888, 43936, 43943, 43952, 44001, 44071, 44076, 44090, 44093, 44096, 44133, 44180, 44206, 44219, 44347, 44375, 44397, 44411, 44686, 44724, 44740, 44747, 44777, 44931, 44962, 45013, 45038, 45070, 45075, 45136, 45236, 45239, 45267, 45286, 45508, 45514, 45530, 45639, 45645, 45674, 45684, 45785, 45792, 45827, 45834, 46021, 46042, 46085, 46088, 46165, 46188, 46290, 46342, 46372, 46377, 46493, 46511, 46585, 46624, 46695, 47169, 47294, 47571, 47900, 47993, 48415, 49032, 49107, 49128, 49133, 49249, 49267, 49341, 49380, 49451, 49925, 50050, 50327, 50656, 50749, 51171, 51788, 51863, 51910, 51936, 52148, 52217, 52427, 52532, 53133, 53210, 53350, 53981, 54174, 54204, 54265, 54387, 54455, 54488, 54546, 54770, 54843, 54953, 54984, 55246, 55750, 55919, 56784, 56836, 57217, 57354, 57369, 57483, 57726, 58073, 58098, 58156, 58338, 58870, 58933, 58987, 59093, 59168, 59189, 59235, 59250, 59505, 59649, 59699, 59739, 59784, 59811, 59968, 60004, 60062, 60083, 60127, 60574, 60764, 60814, 60831, 61675, 62135, 62194, 62317, 62380, 62410, 62422, 62497, 62518, 62536, 62566, 62664, 62695, 62750, 63076, 63150, 63414, 63682, 63811, 63942, 63996, 64210, 64447, 64491, 64642, 64780, 64880, 64960, 64986, 65070, 65237, 65285, 65509, 65592, 66161, 66235, 66334, 66372, 67765, 67811, 68048, 68267, 68305, 68333, 68488, 68534, 68619, 68645, 68745, 69243, 69272, 69292, 69350, 69518, 69593, 69634, 69733, 69880, 69922, 69933, 70063, 70090, 70101, 70425, 70518, 70593, 70680, 70949, 71009, 71086, 71154, 71196, 71298, 71338, 71447, 71488, 71554, 71734, 71773, 71813, 71877, 71948, 71950, 72063, 72169, 72219, 72289, 72384, 72484, 72514, 72585, 72615, 72642, 72661, 72700, 72777, 72876, 72925, 72953, 73381, 73396, 73416, 73458, 73700, 73874, 73907, 73953, 74045, 74165, 74213, 74707, 74749, 75012, 75180, 75281, 75366, 75505, 75603, 75647, 75685, 76050, 76268, 76348, 76439, 76530, 76551, 76888, 77075, 77119, 77184, 77199, 77334, 77397, 77725, 77774, 77815, 77946, 78102, 78176, 78518, 78590, 78661, 78823, 78920, 79043, 79057, 79178, 79260, 79446, 79476, 79496, 79558, 79659, 79740, 79875, 79940, 80256, 80399, 80442, 80469, 80529, 80585, 80675, 80713, 80764, 80859, 80981, 81052, 81081, 81205, 81324, 81388, 81428, 81524, 81575, 81587, 82195, 82204, 82249, 82263, 82656, 82859, 82869, 82883, 82954, 82990, 83060, 83082, 83093, 83136, 83236, 83268, 83598, 83717, 83738, 83768, 83803, 83954, 84015, 84018, 84056, 84170, 84214, 84228, 84940, 84960, 85094, 85144, 85662, 85750, 85893, 85900, 86008, 86023, 86060, 86101, 86138, 86379, 86403, 86455, 86588, 86610, 86654, 86686, 86835, 87005, 87086, 87212, 87302, 87380, 87459, 87547, 88380, 88686, 89128, 89206, 89297, 89485, 89519, 89672, 89869, 90822, 91110, 91186, 91955, 92034, 92065, 92166, 92181, 92232, 92265, 92372, 92459, 92634, 92704, 92888, 93284, 93615, 93708, 93748, 93775, 93866, 93984, 94002, 94037, 94256, 94694, 94717, 94946, 95001, 95248, 95386, 95388, 96025, 96579, 97113, 97862, 98424, 98815, 98942, 99064, 99170, 99414, 99526, 99985, 100420, 100464, 100753, 100773, 100798, 100846, 100911, 100979, 101034, 102075, 102173, 102245, 102390, 102431, 102644, 102789, 103127, 103406, 103662, 103679, 103750, 105015, 105319, 105532, 105905, 106102, 106335, 106384, 106500, 106609, 106624, 106851, 106985, 107274, 107405, 107705, 107747, 107829, 107879, 107927, 108105, 108618, 108622, 108931, 108980, 109611, 110086, 110858, 110868, 110982, 111263, 111383, 111530, 111959, 112215, 112370, 112596, 112866, 112962, 113019, 113134, 113158, 113203, 113312, 113372, 113535, 113690, 113887, 113907, 113968, 114042, 114066, 114169, 114208, 114345, 114401, 114448, 114578, 114587, 114595, 115008, 115383, 115503, 115870, 116574, 116585, 116620, 118698, 118712, 118785, 118899, 118921, 118989, 119009, 119088, 119115, 119166, 119239, 119444, 119479, 119542, 119624, 119655, 119702, 119723, 119789, 119823, 119851, 119971, 120046, 121222, 121343, 121689, 122946, 123138, 123197, 123224, 123565, 123628, 123710, 123802, 123812, 123821, 123871, 124055, 124349, 124399, 124432, 124571, 124596, 124623, 124690, 125006, 125850, 125875, 125980, 126048, 126144, 126201, 126262, 126320, 126347, 126688, 126751, 126833, 126925, 126935, 126944, 126994, 127178, 127472, 127522, 127555, 127694, 127719, 127746, 127813, 128129, 128973, 128998, 129103, 129171, 129267, 129324, 129385, 133481, 133527, 133578, 133618, 133644, 133723, 133791, 133916, 134240, 134377, 134407, 135471, 136258, 136643, 137645, 137827, 137877, 137896, 138700, 138738, 139817, 139924, 139944, 139984, 140005, 140151, 140166, 140335, 140589, 140780, 141585, 141604, 141888, 141911, 142288, 142832, 144486, 144553, 144601, 147110, 147261, 147680, 148248, 148382, 148541, 148605, 148612, 148719, 148740, 148851, 148944, 149013, 149381, 149704, 149798, 149842, 149942, 150064, 150083, 150306, 150387, 150451, 150477, 150546, 150644, 150845, 150905, 151020, 151116, 151303, 151410, 151471, 151642, 151693, 151733, 151758, 151900, 152025, 152105, 152373, 152573, 152706, 152769, 152837, 152877, 152889, 153239, 153301, 153420, 153436, 153472, 153556, 153590, 153605, 153670, 153743, 153894, 153917, 154042, 154293, 154479, 154699, 154838, 155067, 155100, 155337, 155469, 155599, 155688, 155762, 155800, 155856, 155889, 155910, 156254, 156424, 156481, 156527, 156654, 156678, 156715, 156730, 156779, 156826, 156851, 156868, 156945, 157010, 157017, 157086, 157100, 157173, 157426, 157625, 157698, 157770, 158234, 158261, 158275, 158282, 158299, 158307, 158328, 158337, 158355, 158375, 158404, 158414, 158430, 158471, 158510, 158560, 158585, 158635, 158815, 158828, 158915, 158940, 158993, 158996, 159036, 159124, 159231, 159273, 159314, 159335, 159362, 159381, 159389, 159429, 159433, 159535, 159543, 159574, 159606, 159614, 159626, 159635, 159679, 159690, 159694, 159719, 159731, 159772, 159790, 159910, 160194, 160318, 160393, 160459, 160541, 160548, 160577, 160721, 160929, 160985, 161076, 161098, 161210, 161378, 161529, 161625, 161866, 161909, 161940, 161997, 162099, 162183, 162232, 162398, 162502, 162556, 162601, 162664, 162764, 162951, 162971, 162982, 163145, 163334, 164099, 164212, 164268, 164293, 164443, 164469, 164506, 164604, 164820, 164840, 164872, 164914, 164944, 164977, 164983, 165002, 165157, 165184, 165209, 165274, 165296, 165336, 165437, 165451, 165462, 165508, 165556, 165650, 165735, 165791, 165814, 165820, 165879, 165882, 165899, 165957, 165976, 166032, 166074, 166089, 166119, 166247, 166263, 166297, 166335, 166376, 166416, 166440, 166446, 166461, 166502, 166518, 166521, 166563, 166588, 166683, 166700, 166852, 166873, 166957, 166976, 167079, 167196, 167209, 167224, 167240, 167287, 167300, 167347, 167434, 167460, 167497, 167560, 167646, 167677, 167760, 167806, 167876, 167973, 168034, 168071, 168309, 168387, 168445, 168463, 168475, 168481, 168514, 168548, 168564, 168633, 168714, 168737, 168771, 168833, 168849, 168912, 169089, 169176, 169305, 169384, 169402, 169481, 169510, 169530, 169590, 169675, 169685, 169752, 169771, 169817, 169842, 169873, 170207, 171535, 171609, 171865, 171884, 172021, 172321, 172893, 172973, 173027, 173094, 173105, 173162, 173165, 173177, 173219, 173234, 173257, 173282, 173356, 173411, 173433, 173504, 173514, 173916, 173930, 173947, 173960, 174027, 174045, 174070, 174072, 174135, 174178, 174261, 174296, 174428, 174460, 174472, 174525, 174541, 174693, 174711, 174717, 174747, 174769, 174852, 175106, 175139, 175179, 175226, 175305, 175363, 175388, 175406, 175645, 175654, 175657, 175688, 175725, 175851, 175877, 175890, 175904, 175908, 176002, 176051, 176054, 176137, 176172, 176230, 176397, 176420, 176422, 176481, 176528, 176542, 176547, 176580, 176588, 176606, 176622, 176631, 176671, 176804, 177073, 177146, 177282, 177315, 177422, 177458, 177700, 177889, 177920, 177963, 177976, 178007, 178219, 178458, 178491, 178558, 178678, 178938, 178992, 179265, 179456, 179530, 179928, 180016, 180157, 180170, 180204, 180249, 180295, 180740, 180856, 180892, 180963, 180991, 181014, 181055, 181087, 181214, 181311, 181516, 181542, 181603, 181667, 181844, 181893, 181990, 182012, 182223, 182279, 182317, 182345, 182476, 182591, 183149, 183366, 183564, 183598, 183775, 183819, 184086, 184151, 184209, 184251, 184292, 184307, 184418, 184478, 184535, 184555, 184582, 184603, 184765, 184771, 184827, 184923, 185351, 185432, 185456, 185554, 185559, 185660, 185697, 185700, 185792, 185855, 185945, 185993, 186354, 186369, 186385, 186608, 186806, 186986, 187076, 187184, 187321, 187382, 187437, 187573, 187631, 187753, 187803, 187952, 188051, 188119, 188245, 188340, 188415, 188434, 188496, 188510, 188539, 188561, 188582, 188609, 188620, 188653, 188681, 188691, 188703, 188717, 188743, 188816, 188825, 188840, 188855, 188972, 189032, 189050, 189105, 189115, 189149, 189157, 189184, 189206, 189302, 189307, 189379, 189405, 189413, 189509, 189539, 189542, 189561, 189574, 189591, 189616, 189653, 189675, 189695, 189698, 189714, 189741, 189768, 189778, 189786, 189808, 189814, 189823, 189887, 189936, 189978, 190081, 190124, 190169, 190195, 190230, 190268, 190335, 190493, 190597, 190709, 190752, 190781, 190988, 191186, 191222, 191357, 191532, 191614, 191785, 191863, 191904, 192091, 192129, 192171, 192297, 192470, 192483, 192572, 192626, 192715, 192914, 192928, 192979, 193304, 193329, 193559, 193693, 193746, 193786, 193883, 194016, 194102, 194246]\n"
          ]
        }
      ]
    },
    {
      "cell_type": "markdown",
      "metadata": {
        "id": "XCwmAOw2ZMo9"
      },
      "source": [
        "#Cifrado César"
      ]
    },
    {
      "cell_type": "code",
      "metadata": {
        "colab": {
          "base_uri": "https://localhost:8080/"
        },
        "id": "0LonwOdbZVDx",
        "outputId": "a022f01e-de9a-42a3-d516-8b9d4b3aecb1"
      },
      "source": [
        "# Solamente descifrar (Encriptado esta mal dicho)\n",
        "cifrado = \"dwdfdu\"\n",
        "alfabeto = \"abcdefghijklmnopqrstuvwxyz\"\n",
        "print(len(alfabeto))\n",
        "# Llave ¿Posiciones de corrimiento?\n",
        "for llave in range(1 , len(alfabeto)):\n",
        "    for i in range( len(cifrado) ):\n",
        "        #print(alfabeto.index (cifrado[i]) , end = \" \" )\n",
        "        index = alfabeto.index (cifrado[i])\n",
        "        print( alfabeto[ (index + llave) % 26 ] , end = \" \")\n",
        "    print(\"\")\n",
        "\n",
        "\n"
      ],
      "execution_count": 14,
      "outputs": [
        {
          "output_type": "stream",
          "name": "stdout",
          "text": [
            "26\n",
            "e x e g e v \n",
            "f y f h f w \n",
            "g z g i g x \n",
            "h a h j h y \n",
            "i b i k i z \n",
            "j c j l j a \n",
            "k d k m k b \n",
            "l e l n l c \n",
            "m f m o m d \n",
            "n g n p n e \n",
            "o h o q o f \n",
            "p i p r p g \n",
            "q j q s q h \n",
            "r k r t r i \n",
            "s l s u s j \n",
            "t m t v t k \n",
            "u n u w u l \n",
            "v o v x v m \n",
            "w p w y w n \n",
            "x q x z x o \n",
            "y r y a y p \n",
            "z s z b z q \n",
            "a t a c a r \n",
            "b u b d b s \n",
            "c v c e c t \n"
          ]
        }
      ]
    },
    {
      "cell_type": "code",
      "metadata": {
        "colab": {
          "base_uri": "https://localhost:8080/"
        },
        "id": "13QmBeMYgG14",
        "outputId": "ee6163f5-2118-4954-d82c-cc9685ea5ce4"
      },
      "source": [
        "# Solamente descifrar (Encriptado esta mal dicho)\n",
        "cifrado = \"zg gzhv lpz vidhv v gv pidqzmndyvy ivxdjivg, kjm hd mvuv cvwgvmá zg znkímdop, mzqzgv gv qjxvxdói cphviínodxv xji gv lpz apz xjixzwdyv. zg vpojm yz znov xégzwmz amvnz, ejné qvnxjixzgjn, vnphdó gv mzxojmív zi 1920, zi piv ékjxv zi lpz gvn znkzmviuvn yz gv mzqjgpxdói vúi znovwvi qdqvn, cvwív piv bmvi aé zi gv kvomdv t zg áidhj mzyziojm nz zsoziyív zi zg vhwdzioz.\"\n",
        "alfabeto = \"abcdefghijklmnopqrstuvwxyz\"\n",
        "print(len(alfabeto))\n",
        "# Llave ¿Posiciones de corrimiento?\n",
        "for llave in range( 1 , len(alfabeto)):\n",
        "    for i in range( len(cifrado)):\n",
        "        if not( cifrado[i] in alfabeto ):\n",
        "            print( cifrado[i] , end = \" \")\n",
        "        else:\n",
        "            #print( alfabeto.index( cifrado[i]) , end=\" \" )\n",
        "            index = alfabeto.index( cifrado[i] )\n",
        "            print( alfabeto[ (index + llave) % 26 ] , end = \" \" )\n",
        "\n",
        "    print(\"\")\n",
        "\n",
        "\n"
      ],
      "execution_count": 22,
      "outputs": [
        {
          "output_type": "stream",
          "name": "stdout",
          "text": [
            "26\n",
            "a h   h a i w   m q a   w j e i w   w   h w   q j e r a n o e z w z   j w y e k j w h ,   l k n   i e   n w v w   d w x h w n á   a h   a o l í n e p q ,   n a r a h w   h w   r k y w y e ó j   d q i w j í o p e y w   y k j   h w   m q a   b q a   y k j y a x e z w .   a h   w q p k n   z a   a o p w   y é h a x n a   b n w o a ,   f k o é   r w o y k j y a h k o ,   w o q i e ó   h w   n a y p k n í w   a j   1 9 2 0 ,   a j   q j w   é l k y w   a j   m q a   h w o   a o l a n w j v w o   z a   h w   n a r k h q y e ó j   w ú j   a o p w x w j   r e r w o ,   d w x í w   q j w   c n w j   b é   a j   h w   l w p n e w   u   a h   á j e i k   n a z a j p k n   o a   a t p a j z í w   a j   a h   w i x e a j p a . \n",
            "b i   i b j x   n r b   x k f j x   x   i x   r k f s b o p f a x a   k x z f l k x i ,   m l o   j f   o x w x   e x y i x o á   b i   b p m í o f q r ,   o b s b i x   i x   s l z x z f ó k   e r j x k í p q f z x   z l k   i x   n r b   c r b   z l k z b y f a x .   b i   x r q l o   a b   b p q x   z é i b y o b   c o x p b ,   g l p é   s x p z l k z b i l p ,   x p r j f ó   i x   o b z q l o í x   b k   1 9 2 0 ,   b k   r k x   é m l z x   b k   n r b   i x p   b p m b o x k w x p   a b   i x   o b s l i r z f ó k   x ú k   b p q x y x k   s f s x p ,   e x y í x   r k x   d o x k   c é   b k   i x   m x q o f x   v   b i   á k f j l   o b a b k q l o   p b   b u q b k a í x   b k   b i   x j y f b k q b . \n",
            "c j   j c k y   o s c   y l g k y   y   j y   s l g t c p q g b y b   l y a g m l y j ,   n m p   k g   p y x y   f y z j y p á   c j   c q n í p g r s ,   p c t c j y   j y   t m a y a g ó l   f s k y l í q r g a y   a m l   j y   o s c   d s c   a m l a c z g b y .   c j   y s r m p   b c   c q r y   a é j c z p c   d p y q c ,   h m q é   t y q a m l a c j m q ,   y q s k g ó   j y   p c a r m p í y   c l   1 9 2 0 ,   c l   s l y   é n m a y   c l   o s c   j y q   c q n c p y l x y q   b c   j y   p c t m j s a g ó l   y ú l   c q r y z y l   t g t y q ,   f y z í y   s l y   e p y l   d é   c l   j y   n y r p g y   w   c j   á l g k m   p c b c l r m p   q c   c v r c l b í y   c l   c j   y k z g c l r c . \n",
            "d k   k d l z   p t d   z m h l z   z   k z   t m h u d q r h c z c   m z b h n m z k ,   o n q   l h   q z y z   g z a k z q á   d k   d r o í q h s t ,   q d u d k z   k z   u n b z b h ó m   g t l z m í r s h b z   b n m   k z   p t d   e t d   b n m b d a h c z .   d k   z t s n q   c d   d r s z   b é k d a q d   e q z r d ,   i n r é   u z r b n m b d k n r ,   z r t l h ó   k z   q d b s n q í z   d m   1 9 2 0 ,   d m   t m z   é o n b z   d m   p t d   k z r   d r o d q z m y z r   c d   k z   q d u n k t b h ó m   z ú m   d r s z a z m   u h u z r ,   g z a í z   t m z   f q z m   e é   d m   k z   o z s q h z   x   d k   á m h l n   q d c d m s n q   r d   d w s d m c í z   d m   d k   z l a h d m s d . \n",
            "e l   l e m a   q u e   a n i m a   a   l a   u n i v e r s i d a d   n a c i o n a l ,   p o r   m i   r a z a   h a b l a r á   e l   e s p í r i t u ,   r e v e l a   l a   v o c a c i ó n   h u m a n í s t i c a   c o n   l a   q u e   f u e   c o n c e b i d a .   e l   a u t o r   d e   e s t a   c é l e b r e   f r a s e ,   j o s é   v a s c o n c e l o s ,   a s u m i ó   l a   r e c t o r í a   e n   1 9 2 0 ,   e n   u n a   é p o c a   e n   q u e   l a s   e s p e r a n z a s   d e   l a   r e v o l u c i ó n   a ú n   e s t a b a n   v i v a s ,   h a b í a   u n a   g r a n   f é   e n   l a   p a t r i a   y   e l   á n i m o   r e d e n t o r   s e   e x t e n d í a   e n   e l   a m b i e n t e . \n",
            "f m   m f n b   r v f   b o j n b   b   m b   v o j w f s t j e b e   o b d j p o b m ,   q p s   n j   s b a b   i b c m b s á   f m   f t q í s j u v ,   s f w f m b   m b   w p d b d j ó o   i v n b o í t u j d b   d p o   m b   r v f   g v f   d p o d f c j e b .   f m   b v u p s   e f   f t u b   d é m f c s f   g s b t f ,   k p t é   w b t d p o d f m p t ,   b t v n j ó   m b   s f d u p s í b   f o   1 9 2 0 ,   f o   v o b   é q p d b   f o   r v f   m b t   f t q f s b o a b t   e f   m b   s f w p m v d j ó o   b ú o   f t u b c b o   w j w b t ,   i b c í b   v o b   h s b o   g é   f o   m b   q b u s j b   z   f m   á o j n p   s f e f o u p s   t f   f y u f o e í b   f o   f m   b n c j f o u f . \n",
            "g n   n g o c   s w g   c p k o c   c   n c   w p k x g t u k f c f   p c e k q p c n ,   r q t   o k   t c b c   j c d n c t á   g n   g u r í t k v w ,   t g x g n c   n c   x q e c e k ó p   j w o c p í u v k e c   e q p   n c   s w g   h w g   e q p e g d k f c .   g n   c w v q t   f g   g u v c   e é n g d t g   h t c u g ,   l q u é   x c u e q p e g n q u ,   c u w o k ó   n c   t g e v q t í c   g p   1 9 2 0 ,   g p   w p c   é r q e c   g p   s w g   n c u   g u r g t c p b c u   f g   n c   t g x q n w e k ó p   c ú p   g u v c d c p   x k x c u ,   j c d í c   w p c   i t c p   h é   g p   n c   r c v t k c   a   g n   á p k o q   t g f g p v q t   u g   g z v g p f í c   g p   g n   c o d k g p v g . \n",
            "h o   o h p d   t x h   d q l p d   d   o d   x q l y h u v l g d g   q d f l r q d o ,   s r u   p l   u d c d   k d e o d u á   h o   h v s í u l w x ,   u h y h o d   o d   y r f d f l ó q   k x p d q í v w l f d   f r q   o d   t x h   i x h   f r q f h e l g d .   h o   d x w r u   g h   h v w d   f é o h e u h   i u d v h ,   m r v é   y d v f r q f h o r v ,   d v x p l ó   o d   u h f w r u í d   h q   1 9 2 0 ,   h q   x q d   é s r f d   h q   t x h   o d v   h v s h u d q c d v   g h   o d   u h y r o x f l ó q   d ú q   h v w d e d q   y l y d v ,   k d e í d   x q d   j u d q   i é   h q   o d   s d w u l d   b   h o   á q l p r   u h g h q w r u   v h   h a w h q g í d   h q   h o   d p e l h q w h . \n",
            "i p   p i q e   u y i   e r m q e   e   p e   y r m z i v w m h e h   r e g m s r e p ,   t s v   q m   v e d e   l e f p e v á   i p   i w t í v m x y ,   v i z i p e   p e   z s g e g m ó r   l y q e r í w x m g e   g s r   p e   u y i   j y i   g s r g i f m h e .   i p   e y x s v   h i   i w x e   g é p i f v i   j v e w i ,   n s w é   z e w g s r g i p s w ,   e w y q m ó   p e   v i g x s v í e   i r   1 9 2 0 ,   i r   y r e   é t s g e   i r   u y i   p e w   i w t i v e r d e w   h i   p e   v i z s p y g m ó r   e ú r   i w x e f e r   z m z e w ,   l e f í e   y r e   k v e r   j é   i r   p e   t e x v m e   c   i p   á r m q s   v i h i r x s v   w i   i b x i r h í e   i r   i p   e q f m i r x i . \n",
            "j q   q j r f   v z j   f s n r f   f   q f   z s n a j w x n i f i   s f h n t s f q ,   u t w   r n   w f e f   m f g q f w á   j q   j x u í w n y z ,   w j a j q f   q f   a t h f h n ó s   m z r f s í x y n h f   h t s   q f   v z j   k z j   h t s h j g n i f .   j q   f z y t w   i j   j x y f   h é q j g w j   k w f x j ,   o t x é   a f x h t s h j q t x ,   f x z r n ó   q f   w j h y t w í f   j s   1 9 2 0 ,   j s   z s f   é u t h f   j s   v z j   q f x   j x u j w f s e f x   i j   q f   w j a t q z h n ó s   f ú s   j x y f g f s   a n a f x ,   m f g í f   z s f   l w f s   k é   j s   q f   u f y w n f   d   j q   á s n r t   w j i j s y t w   x j   j c y j s i í f   j s   j q   f r g n j s y j . \n",
            "k r   r k s g   w a k   g t o s g   g   r g   a t o b k x y o j g j   t g i o u t g r ,   v u x   s o   x g f g   n g h r g x á   k r   k y v í x o z a ,   x k b k r g   r g   b u i g i o ó t   n a s g t í y z o i g   i u t   r g   w a k   l a k   i u t i k h o j g .   k r   g a z u x   j k   k y z g   i é r k h x k   l x g y k ,   p u y é   b g y i u t i k r u y ,   g y a s o ó   r g   x k i z u x í g   k t   1 9 2 0 ,   k t   a t g   é v u i g   k t   w a k   r g y   k y v k x g t f g y   j k   r g   x k b u r a i o ó t   g ú t   k y z g h g t   b o b g y ,   n g h í g   a t g   m x g t   l é   k t   r g   v g z x o g   e   k r   á t o s u   x k j k t z u x   y k   k d z k t j í g   k t   k r   g s h o k t z k . \n",
            "l s   s l t h   x b l   h u p t h   h   s h   b u p c l y z p k h k   u h j p v u h s ,   w v y   t p   y h g h   o h i s h y á   l s   l z w í y p a b ,   y l c l s h   s h   c v j h j p ó u   o b t h u í z a p j h   j v u   s h   x b l   m b l   j v u j l i p k h .   l s   h b a v y   k l   l z a h   j é s l i y l   m y h z l ,   q v z é   c h z j v u j l s v z ,   h z b t p ó   s h   y l j a v y í h   l u   1 9 2 0 ,   l u   b u h   é w v j h   l u   x b l   s h z   l z w l y h u g h z   k l   s h   y l c v s b j p ó u   h ú u   l z a h i h u   c p c h z ,   o h i í h   b u h   n y h u   m é   l u   s h   w h a y p h   f   l s   á u p t v   y l k l u a v y   z l   l e a l u k í h   l u   l s   h t i p l u a l . \n",
            "m t   t m u i   y c m   i v q u i   i   t i   c v q d m z a q l i l   v i k q w v i t ,   x w z   u q   z i h i   p i j t i z á   m t   m a x í z q b c ,   z m d m t i   t i   d w k i k q ó v   p c u i v í a b q k i   k w v   t i   y c m   n c m   k w v k m j q l i .   m t   i c b w z   l m   m a b i   k é t m j z m   n z i a m ,   r w a é   d i a k w v k m t w a ,   i a c u q ó   t i   z m k b w z í i   m v   1 9 2 0 ,   m v   c v i   é x w k i   m v   y c m   t i a   m a x m z i v h i a   l m   t i   z m d w t c k q ó v   i ú v   m a b i j i v   d q d i a ,   p i j í i   c v i   o z i v   n é   m v   t i   x i b z q i   g   m t   á v q u w   z m l m v b w z   a m   m f b m v l í i   m v   m t   i u j q m v b m . \n",
            "n u   u n v j   z d n   j w r v j   j   u j   d w r e n a b r m j m   w j l r x w j u ,   y x a   v r   a j i j   q j k u j a á   n u   n b y í a r c d ,   a n e n u j   u j   e x l j l r ó w   q d v j w í b c r l j   l x w   u j   z d n   o d n   l x w l n k r m j .   n u   j d c x a   m n   n b c j   l é u n k a n   o a j b n ,   s x b é   e j b l x w l n u x b ,   j b d v r ó   u j   a n l c x a í j   n w   1 9 2 0 ,   n w   d w j   é y x l j   n w   z d n   u j b   n b y n a j w i j b   m n   u j   a n e x u d l r ó w   j ú w   n b c j k j w   e r e j b ,   q j k í j   d w j   p a j w   o é   n w   u j   y j c a r j   h   n u   á w r v x   a n m n w c x a   b n   n g c n w m í j   n w   n u   j v k r n w c n . \n",
            "o v   v o w k   a e o   k x s w k   k   v k   e x s f o b c s n k n   x k m s y x k v ,   z y b   w s   b k j k   r k l v k b á   o v   o c z í b s d e ,   b o f o v k   v k   f y m k m s ó x   r e w k x í c d s m k   m y x   v k   a e o   p e o   m y x m o l s n k .   o v   k e d y b   n o   o c d k   m é v o l b o   p b k c o ,   t y c é   f k c m y x m o v y c ,   k c e w s ó   v k   b o m d y b í k   o x   1 9 2 0 ,   o x   e x k   é z y m k   o x   a e o   v k c   o c z o b k x j k c   n o   v k   b o f y v e m s ó x   k ú x   o c d k l k x   f s f k c ,   r k l í k   e x k   q b k x   p é   o x   v k   z k d b s k   i   o v   á x s w y   b o n o x d y b   c o   o h d o x n í k   o x   o v   k w l s o x d o . \n",
            "p w   w p x l   b f p   l y t x l   l   w l   f y t g p c d t o l o   y l n t z y l w ,   a z c   x t   c l k l   s l m w l c á   p w   p d a í c t e f ,   c p g p w l   w l   g z n l n t ó y   s f x l y í d e t n l   n z y   w l   b f p   q f p   n z y n p m t o l .   p w   l f e z c   o p   p d e l   n é w p m c p   q c l d p ,   u z d é   g l d n z y n p w z d ,   l d f x t ó   w l   c p n e z c í l   p y   1 9 2 0 ,   p y   f y l   é a z n l   p y   b f p   w l d   p d a p c l y k l d   o p   w l   c p g z w f n t ó y   l ú y   p d e l m l y   g t g l d ,   s l m í l   f y l   r c l y   q é   p y   w l   a l e c t l   j   p w   á y t x z   c p o p y e z c   d p   p i e p y o í l   p y   p w   l x m t p y e p . \n",
            "q x   x q y m   c g q   m z u y m   m   x m   g z u h q d e u p m p   z m o u a z m x ,   b a d   y u   d m l m   t m n x m d á   q x   q e b í d u f g ,   d q h q x m   x m   h a o m o u ó z   t g y m z í e f u o m   o a z   x m   c g q   r g q   o a z o q n u p m .   q x   m g f a d   p q   q e f m   o é x q n d q   r d m e q ,   v a e é   h m e o a z o q x a e ,   m e g y u ó   x m   d q o f a d í m   q z   1 9 2 0 ,   q z   g z m   é b a o m   q z   c g q   x m e   q e b q d m z l m e   p q   x m   d q h a x g o u ó z   m ú z   q e f m n m z   h u h m e ,   t m n í m   g z m   s d m z   r é   q z   x m   b m f d u m   k   q x   á z u y a   d q p q z f a d   e q   q j f q z p í m   q z   q x   m y n u q z f q . \n",
            "r y   y r z n   d h r   n a v z n   n   y n   h a v i r e f v q n q   a n p v b a n y ,   c b e   z v   e n m n   u n o y n e á   r y   r f c í e v g h ,   e r i r y n   y n   i b p n p v ó a   u h z n a í f g v p n   p b a   y n   d h r   s h r   p b a p r o v q n .   r y   n h g b e   q r   r f g n   p é y r o e r   s e n f r ,   w b f é   i n f p b a p r y b f ,   n f h z v ó   y n   e r p g b e í n   r a   1 9 2 0 ,   r a   h a n   é c b p n   r a   d h r   y n f   r f c r e n a m n f   q r   y n   e r i b y h p v ó a   n ú a   r f g n o n a   i v i n f ,   u n o í n   h a n   t e n a   s é   r a   y n   c n g e v n   l   r y   á a v z b   e r q r a g b e   f r   r k g r a q í n   r a   r y   n z o v r a g r . \n",
            "s z   z s a o   e i s   o b w a o   o   z o   i b w j s f g w r o r   b o q w c b o z ,   d c f   a w   f o n o   v o p z o f á   s z   s g d í f w h i ,   f s j s z o   z o   j c q o q w ó b   v i a o b í g h w q o   q c b   z o   e i s   t i s   q c b q s p w r o .   s z   o i h c f   r s   s g h o   q é z s p f s   t f o g s ,   x c g é   j o g q c b q s z c g ,   o g i a w ó   z o   f s q h c f í o   s b   1 9 2 0 ,   s b   i b o   é d c q o   s b   e i s   z o g   s g d s f o b n o g   r s   z o   f s j c z i q w ó b   o ú b   s g h o p o b   j w j o g ,   v o p í o   i b o   u f o b   t é   s b   z o   d o h f w o   m   s z   á b w a c   f s r s b h c f   g s   s l h s b r í o   s b   s z   o a p w s b h s . \n",
            "t a   a t b p   f j t   p c x b p   p   a p   j c x k t g h x s p s   c p r x d c p a ,   e d g   b x   g p o p   w p q a p g á   t a   t h e í g x i j ,   g t k t a p   a p   k d r p r x ó c   w j b p c í h i x r p   r d c   a p   f j t   u j t   r d c r t q x s p .   t a   p j i d g   s t   t h i p   r é a t q g t   u g p h t ,   y d h é   k p h r d c r t a d h ,   p h j b x ó   a p   g t r i d g í p   t c   1 9 2 0 ,   t c   j c p   é e d r p   t c   f j t   a p h   t h e t g p c o p h   s t   a p   g t k d a j r x ó c   p ú c   t h i p q p c   k x k p h ,   w p q í p   j c p   v g p c   u é   t c   a p   e p i g x p   n   t a   á c x b d   g t s t c i d g   h t   t m i t c s í p   t c   t a   p b q x t c i t . \n",
            "u b   b u c q   g k u   q d y c q   q   b q   k d y l u h i y t q t   d q s y e d q b ,   f e h   c y   h q p q   x q r b q h á   u b   u i f í h y j k ,   h u l u b q   b q   l e s q s y ó d   x k c q d í i j y s q   s e d   b q   g k u   v k u   s e d s u r y t q .   u b   q k j e h   t u   u i j q   s é b u r h u   v h q i u ,   z e i é   l q i s e d s u b e i ,   q i k c y ó   b q   h u s j e h í q   u d   1 9 2 0 ,   u d   k d q   é f e s q   u d   g k u   b q i   u i f u h q d p q i   t u   b q   h u l e b k s y ó d   q ú d   u i j q r q d   l y l q i ,   x q r í q   k d q   w h q d   v é   u d   b q   f q j h y q   o   u b   á d y c e   h u t u d j e h   i u   u n j u d t í q   u d   u b   q c r y u d j u . \n",
            "v c   c v d r   h l v   r e z d r   r   c r   l e z m v i j z u r u   e r t z f e r c ,   g f i   d z   i r q r   y r s c r i á   v c   v j g í i z k l ,   i v m v c r   c r   m f t r t z ó e   y l d r e í j k z t r   t f e   c r   h l v   w l v   t f e t v s z u r .   v c   r l k f i   u v   v j k r   t é c v s i v   w i r j v ,   a f j é   m r j t f e t v c f j ,   r j l d z ó   c r   i v t k f i í r   v e   1 9 2 0 ,   v e   l e r   é g f t r   v e   h l v   c r j   v j g v i r e q r j   u v   c r   i v m f c l t z ó e   r ú e   v j k r s r e   m z m r j ,   y r s í r   l e r   x i r e   w é   v e   c r   g r k i z r   p   v c   á e z d f   i v u v e k f i   j v   v o k v e u í r   v e   v c   r d s z v e k v . \n",
            "w d   d w e s   i m w   s f a e s   s   d s   m f a n w j k a v s v   f s u a g f s d ,   h g j   e a   j s r s   z s t d s j á   w d   w k h í j a l m ,   j w n w d s   d s   n g u s u a ó f   z m e s f í k l a u s   u g f   d s   i m w   x m w   u g f u w t a v s .   w d   s m l g j   v w   w k l s   u é d w t j w   x j s k w ,   b g k é   n s k u g f u w d g k ,   s k m e a ó   d s   j w u l g j í s   w f   1 9 2 0 ,   w f   m f s   é h g u s   w f   i m w   d s k   w k h w j s f r s k   v w   d s   j w n g d m u a ó f   s ú f   w k l s t s f   n a n s k ,   z s t í s   m f s   y j s f   x é   w f   d s   h s l j a s   q   w d   á f a e g   j w v w f l g j   k w   w p l w f v í s   w f   w d   s e t a w f l w . \n",
            "x e   e x f t   j n x   t g b f t   t   e t   n g b o x k l b w t w   g t v b h g t e ,   i h k   f b   k t s t   a t u e t k á   x e   x l i í k b m n ,   k x o x e t   e t   o h v t v b ó g   a n f t g í l m b v t   v h g   e t   j n x   y n x   v h g v x u b w t .   x e   t n m h k   w x   x l m t   v é e x u k x   y k t l x ,   c h l é   o t l v h g v x e h l ,   t l n f b ó   e t   k x v m h k í t   x g   1 9 2 0 ,   x g   n g t   é i h v t   x g   j n x   e t l   x l i x k t g s t l   w x   e t   k x o h e n v b ó g   t ú g   x l m t u t g   o b o t l ,   a t u í t   n g t   z k t g   y é   x g   e t   i t m k b t   r   x e   á g b f h   k x w x g m h k   l x   x q m x g w í t   x g   x e   t f u b x g m x . \n",
            "y f   f y g u   k o y   u h c g u   u   f u   o h c p y l m c x u x   h u w c i h u f ,   j i l   g c   l u t u   b u v f u l á   y f   y m j í l c n o ,   l y p y f u   f u   p i w u w c ó h   b o g u h í m n c w u   w i h   f u   k o y   z o y   w i h w y v c x u .   y f   u o n i l   x y   y m n u   w é f y v l y   z l u m y ,   d i m é   p u m w i h w y f i m ,   u m o g c ó   f u   l y w n i l í u   y h   1 9 2 0 ,   y h   o h u   é j i w u   y h   k o y   f u m   y m j y l u h t u m   x y   f u   l y p i f o w c ó h   u ú h   y m n u v u h   p c p u m ,   b u v í u   o h u   a l u h   z é   y h   f u   j u n l c u   s   y f   á h c g i   l y x y h n i l   m y   y r n y h x í u   y h   y f   u g v c y h n y . \n"
          ]
        }
      ]
    },
    {
      "cell_type": "markdown",
      "metadata": {
        "id": "FumdWIYllLhB"
      },
      "source": [
        "Mejorar el algoritmo para que discrimine los textos no claros y solamente muestre el mensaje tangible."
      ]
    },
    {
      "cell_type": "code",
      "metadata": {
        "colab": {
          "base_uri": "https://localhost:8080/",
          "height": 287
        },
        "id": "qxk6JDOKmYYk",
        "outputId": "2d0d8417-f612-4fb2-ad86-e1357f64f873"
      },
      "source": [
        "from matplotlib import pyplot as plt\n",
        "import random\n",
        "\n",
        "pares = []\n",
        "for i in range(5):\n",
        "    pares.append( [ random.randint(1,100) , random.randint(1,100) ] )\n",
        "print(pares)\n",
        "\n",
        "for par in pares:\n",
        "    plt.plot( par[0],par[1] , \"bo\" )"
      ],
      "execution_count": 24,
      "outputs": [
        {
          "output_type": "stream",
          "name": "stdout",
          "text": [
            "[[24, 78], [46, 54], [45, 97], [16, 60], [33, 36]]\n"
          ]
        },
        {
          "output_type": "display_data",
          "data": {
            "image/png": "[encoded data removed]",
            "text/plain": [
              "<Figure size 432x288 with 1 Axes>"
            ]
          },
          "metadata": {
            "needs_background": "light"
          }
        }
      ]
    }
  ]
}