{
  "nbformat": 4,
  "nbformat_minor": 0,
  "metadata": {
    "colab": {
      "name": "Estrategias_Diseño.ipynb",
      "provenance": [],
      "authorship_tag": "ABX9TyNb6dyR4exdNG/fpCSsC16i",
      "include_colab_link": true
    },
    "kernelspec": {
      "display_name": "Python 3",
      "name": "python3"
    },
    "language_info": {
      "name": "python"
    }
  },
  "cells": [
    {
      "cell_type": "markdown",
      "metadata": {
        "id": "view-in-github",
        "colab_type": "text"
      },
      "source": [
        "<a href=\"https://colab.research.google.com/github/EdgarVitelaChicharo/Dise-o-y-Anal-sis-de-Algoritmos---FES/blob/main/Estrategias_Dise%C3%B1o.ipynb\" target=\"_parent\"><img src=\"https://colab.research.google.com/assets/colab-badge.svg\" alt=\"Open In Colab\"/></a>"
      ]
    },
    {
      "cell_type": "markdown",
      "metadata": {
        "id": "aOKFiG0iYcZ-"
      },
      "source": [
        "#Fuerza Bruta\n"
      ]
    },
    {
      "cell_type": "markdown",
      "metadata": {
        "id": "XoPaH-9UYiNJ"
      },
      "source": [
        "Ejemplo 1, busqueda de patrones de texto."
      ]
    },
    {
      "cell_type": "code",
      "metadata": {
        "colab": {
          "base_uri": "https://localhost:8080/"
        },
        "id": "4-IYM0dfYjxI",
        "outputId": "3d5f5b28-4aa8-43a7-f9d9-8bcca00990d1"
      },
      "source": [
        "def string_match_brute( A , P ):\n",
        "    for i in range( len(A) - len(P) + 1   ):\n",
        "        for j in range( len(P) ):\n",
        "            if P[j] == A[ i+j ]:\n",
        "                pass\n",
        "            else:\n",
        "                break\n",
        "        if j+1 == len(P) and A[i+j] == P[ j ]:\n",
        "            print(f\"Se encontró en la posición:{ i }\")\n",
        "\n",
        "entrada = \"001110010101101110101101\"\n",
        "patron = \"01101\"\n",
        "string_match_brute(entrada , patron)\n",
        "              "
      ],
      "execution_count": null,
      "outputs": [
        {
          "name": "stdout",
          "output_type": "stream",
          "text": [
            "Se encontró en la posición:10\n",
            "Se encontró en la posición:19\n"
          ]
        }
      ]
    },
    {
      "cell_type": "code",
      "metadata": {
        "colab": {
          "base_uri": "https://localhost:8080/"
        },
        "id": "_UeNWewmYttQ",
        "outputId": "4a05ad26-5a44-4a11-c20d-b8170c5f6e0f"
      },
      "source": [
        "# Inicio del método\n",
        "def string_match_brute( A , P ):\n",
        "    \n",
        "    cantidad = 0\n",
        "    indices = []\n",
        "\n",
        "    for i in range(len(entrada)):\n",
        "        if palabra == entrada[i]:\n",
        "            cantidad += 1\n",
        "            indices.append(i)\n",
        "\n",
        "    print(f\"{palabra} se repite {cantidad} veces\")\n",
        "    print(f\"{palabra}  esta en los indices {indices}\")\n",
        "# Fin del método\n",
        "\n",
        "archivo = open('/content/Quijote.txt')\n",
        "texto = archivo.read()\n",
        "quitar = \",;:./¿?¡!<>{}[]'()-–_‘»\"\n",
        "\n",
        "for caracter in quitar:\n",
        "    texto = texto.replace(caracter,\"\")\n",
        "\n",
        "texto = texto.lower()\n",
        "entrada = texto.split(\" \")\n",
        "\n",
        "palabra = \"don\"\n",
        "\n",
        "string_match_brute(entrada , palabra)"
      ],
      "execution_count": null,
      "outputs": [
        {
          "name": "stdout",
          "output_type": "stream",
          "text": [
            "don se repite 1585 veces\n",
            "don  esta en los indices [0, 21, 40, 363, 444, 538, 603, 640, 681, 729, 763, 770, 863, 925, 943, 1056, 1148, 1211, 2335, 2810, 2839, 2990, 3023, 3065, 3073, 3127, 3169, 3351, 3366, 3544, 3562, 3708, 3866, 3897, 4024, 4037, 4064, 4247, 4297, 4479, 4587, 4605, 4716, 5016, 5067, 5124, 5206, 5293, 5352, 5445, 5500, 5567, 5590, 5629, 5693, 5704, 5962, 6025, 6038, 6122, 6214, 6358, 6388, 6586, 6650, 6665, 6843, 6883, 7010, 7021, 7101, 7395, 7410, 7581, 7639, 7860, 7973, 8003, 8124, 8434, 8824, 9005, 9027, 9076, 9103, 9327, 9685, 9862, 10008, 10206, 10245, 10284, 10508, 11654, 11818, 11850, 11980, 12636, 12651, 12694, 12831, 12929, 12979, 13453, 13784, 14587, 14669, 14694, 15043, 15185, 15230, 15298, 15322, 15346, 15398, 15462, 15577, 15738, 15778, 16264, 16360, 16416, 16910, 16968, 17087, 17107, 17139, 17168, 17203, 17232, 17274, 17300, 17362, 17500, 17672, 17729, 17851, 18310, 19114, 19150, 19227, 19374, 19460, 19555, 19690, 19741, 19762, 19800, 19823, 19885, 19948, 20018, 20110, 20221, 20295, 20395, 20486, 20556, 20630, 20700, 20822, 20879, 20994, 21146, 21253, 21336, 21432, 21525, 21860, 21894, 22055, 22575, 22671, 22682, 22728, 22782, 22939, 23030, 23100, 23157, 23171, 23299, 23320, 23505, 23745, 23772, 23929, 24259, 24325, 24412, 24527, 24542, 24728, 24794, 25083, 25231, 25293, 25402, 25416, 25656, 25776, 25812, 25902, 26058, 26086, 26098, 26177, 26201, 26311, 26384, 26448, 26456, 26623, 26750, 26873, 26894, 26912, 26973, 27044, 27217, 27340, 27452, 27976, 28097, 28153, 28220, 28289, 28551, 28660, 28707, 28757, 28860, 28868, 28918, 28952, 31374, 31391, 31779, 31814, 31871, 31874, 31950, 31986, 32117, 32131, 32294, 32313, 32373, 32464, 33578, 33722, 33731, 33782, 33833, 33844, 33878, 33929, 33969, 34119, 34165, 34190, 34218, 34297, 34390, 34417, 34639, 34683, 34732, 34903, 35097, 35109, 35210, 35309, 35325, 35380, 35442, 35478, 35509, 35547, 35598, 35637, 35737, 35779, 35860, 35986, 36080, 36088, 36107, 36366, 36485, 36887, 37035, 37066, 37071, 37118, 37178, 37405, 37495, 37692, 37724, 37767, 37775, 37797, 37857, 38217, 38220, 38273, 38528, 39490, 39563, 39567, 39657, 39671, 39826, 39920, 39961, 40061, 40274, 40292, 40362, 40432, 40517, 40580, 40648, 40706, 40796, 40840, 40922, 41048, 41071, 41203, 41286, 41409, 41459, 41561, 41579, 41722, 41849, 41920, 41938, 42085, 42180, 42265, 42286, 42299, 42379, 42457, 42494, 42586, 42604, 42620, 42750, 42755, 43237, 43280, 43283, 43383, 43386, 43412, 43416, 43430, 43446, 43452, 43554, 43576, 43594, 43604, 43647, 43671, 43689, 43746, 43888, 43936, 43943, 43952, 44001, 44071, 44076, 44090, 44093, 44096, 44133, 44180, 44206, 44219, 44347, 44375, 44397, 44411, 44686, 44724, 44740, 44747, 44777, 44931, 44962, 45013, 45038, 45070, 45075, 45136, 45236, 45239, 45267, 45286, 45508, 45514, 45530, 45639, 45645, 45674, 45684, 45785, 45792, 45827, 45834, 46021, 46042, 46085, 46088, 46165, 46188, 46290, 46342, 46372, 46377, 46493, 46511, 46585, 46624, 46695, 47169, 47294, 47571, 47900, 47993, 48415, 49032, 49107, 49128, 49133, 49249, 49267, 49341, 49380, 49451, 49925, 50050, 50327, 50656, 50749, 51171, 51788, 51863, 51910, 51936, 52148, 52217, 52427, 52532, 53133, 53210, 53350, 53981, 54174, 54204, 54265, 54387, 54455, 54488, 54546, 54770, 54843, 54953, 54984, 55246, 55750, 55919, 56784, 56836, 57217, 57354, 57369, 57483, 57726, 58073, 58098, 58156, 58338, 58870, 58933, 58987, 59093, 59168, 59189, 59235, 59250, 59505, 59649, 59699, 59739, 59784, 59811, 59968, 60004, 60062, 60083, 60127, 60574, 60764, 60814, 60831, 61675, 62135, 62194, 62317, 62380, 62410, 62422, 62497, 62518, 62536, 62566, 62664, 62695, 62750, 63076, 63150, 63414, 63682, 63811, 63942, 63996, 64210, 64447, 64491, 64642, 64780, 64880, 64960, 64986, 65070, 65237, 65285, 65509, 65592, 66161, 66235, 66334, 66372, 67765, 67811, 68048, 68267, 68305, 68333, 68488, 68534, 68619, 68645, 68745, 69243, 69272, 69292, 69350, 69518, 69593, 69634, 69733, 69880, 69922, 69933, 70063, 70090, 70101, 70425, 70518, 70593, 70680, 70949, 71009, 71086, 71154, 71196, 71298, 71338, 71447, 71488, 71554, 71734, 71773, 71813, 71877, 71948, 71950, 72063, 72169, 72219, 72289, 72384, 72484, 72514, 72585, 72615, 72642, 72661, 72700, 72777, 72876, 72925, 72953, 73381, 73396, 73416, 73458, 73700, 73874, 73907, 73953, 74045, 74165, 74213, 74707, 74749, 75012, 75180, 75281, 75366, 75505, 75603, 75647, 75685, 76050, 76268, 76348, 76439, 76530, 76551, 76888, 77075, 77119, 77184, 77199, 77334, 77397, 77725, 77774, 77815, 77946, 78102, 78176, 78518, 78590, 78661, 78823, 78920, 79043, 79057, 79178, 79260, 79446, 79476, 79496, 79558, 79659, 79740, 79875, 79940, 80256, 80399, 80442, 80469, 80529, 80585, 80675, 80713, 80764, 80859, 80981, 81052, 81081, 81205, 81324, 81388, 81428, 81524, 81575, 81587, 82195, 82204, 82249, 82263, 82656, 82859, 82869, 82883, 82954, 82990, 83060, 83082, 83093, 83136, 83236, 83268, 83598, 83717, 83738, 83768, 83803, 83954, 84015, 84018, 84056, 84170, 84214, 84228, 84940, 84960, 85094, 85144, 85662, 85750, 85893, 85900, 86008, 86023, 86060, 86101, 86138, 86379, 86403, 86455, 86588, 86610, 86654, 86686, 86835, 87005, 87086, 87212, 87302, 87380, 87459, 87547, 88380, 88686, 89128, 89206, 89297, 89485, 89519, 89672, 89869, 90822, 91110, 91186, 91955, 92034, 92065, 92166, 92181, 92232, 92265, 92372, 92459, 92634, 92704, 92888, 93284, 93615, 93708, 93748, 93775, 93866, 93984, 94002, 94037, 94256, 94694, 94717, 94946, 95001, 95248, 95386, 95388, 96025, 96579, 97113, 97862, 98424, 98815, 98942, 99064, 99170, 99414, 99526, 99985, 100420, 100464, 100753, 100773, 100798, 100846, 100911, 100979, 101034, 102075, 102173, 102245, 102390, 102431, 102644, 102789, 103127, 103406, 103662, 103679, 103750, 105015, 105319, 105532, 105905, 106102, 106335, 106384, 106500, 106609, 106624, 106851, 106985, 107274, 107405, 107705, 107747, 107829, 107879, 107927, 108105, 108618, 108622, 108931, 108980, 109611, 110086, 110858, 110868, 110982, 111263, 111383, 111530, 111959, 112215, 112370, 112596, 112866, 112962, 113019, 113134, 113158, 113203, 113312, 113372, 113535, 113690, 113887, 113907, 113968, 114042, 114066, 114169, 114208, 114345, 114401, 114448, 114578, 114587, 114595, 115008, 115383, 115503, 115870, 116574, 116585, 116620, 118698, 118712, 118785, 118899, 118921, 118989, 119009, 119088, 119115, 119166, 119239, 119444, 119479, 119542, 119624, 119655, 119702, 119723, 119789, 119823, 119851, 119971, 120046, 121222, 121343, 121689, 122946, 123138, 123197, 123224, 123565, 123628, 123710, 123802, 123812, 123821, 123871, 124055, 124349, 124399, 124432, 124571, 124596, 124623, 124690, 125006, 125850, 125875, 125980, 126048, 126144, 126201, 126262, 126320, 126347, 126688, 126751, 126833, 126925, 126935, 126944, 126994, 127178, 127472, 127522, 127555, 127694, 127719, 127746, 127813, 128129, 128973, 128998, 129103, 129171, 129267, 129324, 129385, 133481, 133527, 133578, 133618, 133644, 133723, 133791, 133916, 134240, 134377, 134407, 135471, 136258, 136643, 137645, 137827, 137877, 137896, 138700, 138738, 139817, 139924, 139944, 139984, 140005, 140151, 140166, 140335, 140589, 140780, 141585, 141604, 141888, 141911, 142288, 142832, 144486, 144553, 144601, 147110, 147261, 147680, 148248, 148382, 148541, 148605, 148612, 148719, 148740, 148851, 148944, 149013, 149381, 149704, 149798, 149842, 149942, 150064, 150083, 150306, 150387, 150451, 150477, 150546, 150644, 150845, 150905, 151020, 151116, 151303, 151410, 151471, 151642, 151693, 151733, 151758, 151900, 152025, 152105, 152373, 152573, 152706, 152769, 152837, 152877, 152889, 153239, 153301, 153420, 153436, 153472, 153556, 153590, 153605, 153670, 153743, 153894, 153917, 154042, 154293, 154479, 154699, 154838, 155067, 155100, 155337, 155469, 155599, 155688, 155762, 155800, 155856, 155889, 155910, 156254, 156424, 156481, 156527, 156654, 156678, 156715, 156730, 156779, 156826, 156851, 156868, 156945, 157010, 157017, 157086, 157100, 157173, 157426, 157625, 157698, 157770, 158234, 158261, 158275, 158282, 158299, 158307, 158328, 158337, 158355, 158375, 158404, 158414, 158430, 158471, 158510, 158560, 158585, 158635, 158815, 158828, 158915, 158940, 158993, 158996, 159036, 159124, 159231, 159273, 159314, 159335, 159362, 159381, 159389, 159429, 159433, 159535, 159543, 159574, 159606, 159614, 159626, 159635, 159679, 159690, 159694, 159719, 159731, 159772, 159790, 159910, 160194, 160318, 160393, 160459, 160541, 160548, 160577, 160721, 160929, 160985, 161076, 161098, 161210, 161378, 161529, 161625, 161866, 161909, 161940, 161997, 162099, 162183, 162232, 162398, 162502, 162556, 162601, 162664, 162764, 162951, 162971, 162982, 163145, 163334, 164099, 164212, 164268, 164293, 164443, 164469, 164506, 164604, 164820, 164840, 164872, 164914, 164944, 164977, 164983, 165002, 165157, 165184, 165209, 165274, 165296, 165336, 165437, 165451, 165462, 165508, 165556, 165650, 165735, 165791, 165814, 165820, 165879, 165882, 165899, 165957, 165976, 166032, 166074, 166089, 166119, 166247, 166263, 166297, 166335, 166376, 166416, 166440, 166446, 166461, 166502, 166518, 166521, 166563, 166588, 166683, 166700, 166852, 166873, 166957, 166976, 167079, 167196, 167209, 167224, 167240, 167287, 167300, 167347, 167434, 167460, 167497, 167560, 167646, 167677, 167760, 167806, 167876, 167973, 168034, 168071, 168309, 168387, 168445, 168463, 168475, 168481, 168514, 168548, 168564, 168633, 168714, 168737, 168771, 168833, 168849, 168912, 169089, 169176, 169305, 169384, 169402, 169481, 169510, 169530, 169590, 169675, 169685, 169752, 169771, 169817, 169842, 169873, 170207, 171535, 171609, 171865, 171884, 172021, 172321, 172893, 172973, 173027, 173094, 173105, 173162, 173165, 173177, 173219, 173234, 173257, 173282, 173356, 173411, 173433, 173504, 173514, 173916, 173930, 173947, 173960, 174027, 174045, 174070, 174072, 174135, 174178, 174261, 174296, 174428, 174460, 174472, 174525, 174541, 174693, 174711, 174717, 174747, 174769, 174852, 175106, 175139, 175179, 175226, 175305, 175363, 175388, 175406, 175645, 175654, 175657, 175688, 175725, 175851, 175877, 175890, 175904, 175908, 176002, 176051, 176054, 176137, 176172, 176230, 176397, 176420, 176422, 176481, 176528, 176542, 176547, 176580, 176588, 176606, 176622, 176631, 176671, 176804, 177073, 177146, 177282, 177315, 177422, 177458, 177700, 177889, 177920, 177963, 177976, 178007, 178219, 178458, 178491, 178558, 178678, 178938, 178992, 179265, 179456, 179530, 179928, 180016, 180157, 180170, 180204, 180249, 180295, 180740, 180856, 180892, 180963, 180991, 181014, 181055, 181087, 181214, 181311, 181516, 181542, 181603, 181667, 181844, 181893, 181990, 182012, 182223, 182279, 182317, 182345, 182476, 182591, 183149, 183366, 183564, 183598, 183775, 183819, 184086, 184151, 184209, 184251, 184292, 184307, 184418, 184478, 184535, 184555, 184582, 184603, 184765, 184771, 184827, 184923, 185351, 185432, 185456, 185554, 185559, 185660, 185697, 185700, 185792, 185855, 185945, 185993, 186354, 186369, 186385, 186608, 186806, 186986, 187076, 187184, 187321, 187382, 187437, 187573, 187631, 187753, 187803, 187952, 188051, 188119, 188245, 188340, 188415, 188434, 188496, 188510, 188539, 188561, 188582, 188609, 188620, 188653, 188681, 188691, 188703, 188717, 188743, 188816, 188825, 188840, 188855, 188972, 189032, 189050, 189105, 189115, 189149, 189157, 189184, 189206, 189302, 189307, 189379, 189405, 189413, 189509, 189539, 189542, 189561, 189574, 189591, 189616, 189653, 189675, 189695, 189698, 189714, 189741, 189768, 189778, 189786, 189808, 189814, 189823, 189887, 189936, 189978, 190081, 190124, 190169, 190195, 190230, 190268, 190335, 190493, 190597, 190709, 190752, 190781, 190988, 191186, 191222, 191357, 191532, 191614, 191785, 191863, 191904, 192091, 192129, 192171, 192297, 192470, 192483, 192572, 192626, 192715, 192914, 192928, 192979, 193304, 193329, 193559, 193693, 193746, 193786, 193883, 194016, 194102, 194246]\n"
          ]
        }
      ]
    },
    {
      "cell_type": "markdown",
      "metadata": {
        "id": "XCwmAOw2ZMo9"
      },
      "source": [
        "#Cifrado César"
      ]
    },
    {
      "cell_type": "code",
      "metadata": {
        "colab": {
          "base_uri": "https://localhost:8080/"
        },
        "id": "0LonwOdbZVDx",
        "outputId": "0ac85b80-eab2-46b7-8b7c-f77ea6065b29"
      },
      "source": [
        "# Solamente descifrar (Encriptado esta mal dicho)\n",
        "cifrado = \"dwdfdu\"\n",
        "alfabeto = \"abcdefghijklmnopqrstuvwxyz\"\n",
        "print(len(alfabeto))\n",
        "# Llave ¿Posiciones de corrimiento?\n",
        "for llave in range(1 , len(alfabeto)):\n",
        "    for i in range( len(cifrado) ):\n",
        "        #print(alfabeto.index (cifrado[i]) , end = \" \" )\n",
        "        index = alfabeto.index (cifrado[i])\n",
        "        print( alfabeto[ (index + llave) % 26 ] , end = \" \")\n",
        "    print(\"\")\n",
        "\n",
        "\n"
      ],
      "execution_count": null,
      "outputs": [
        {
          "name": "stdout",
          "output_type": "stream",
          "text": [
            "26\n",
            "e x e g e v \n",
            "f y f h f w \n",
            "g z g i g x \n",
            "h a h j h y \n",
            "i b i k i z \n",
            "j c j l j a \n",
            "k d k m k b \n",
            "l e l n l c \n",
            "m f m o m d \n",
            "n g n p n e \n",
            "o h o q o f \n",
            "p i p r p g \n",
            "q j q s q h \n",
            "r k r t r i \n",
            "s l s u s j \n",
            "t m t v t k \n",
            "u n u w u l \n",
            "v o v x v m \n",
            "w p w y w n \n",
            "x q x z x o \n",
            "y r y a y p \n",
            "z s z b z q \n",
            "a t a c a r \n",
            "b u b d b s \n",
            "c v c e c t \n"
          ]
        }
      ]
    },
    {
      "cell_type": "code",
      "metadata": {
        "colab": {
          "base_uri": "https://localhost:8080/"
        },
        "id": "13QmBeMYgG14",
        "outputId": "f07ddb2c-ed42-474c-9a45-c34da91aed13"
      },
      "source": [
        "from langdetect import detect\n",
        "\n",
        "# Solamente descifrar (Encriptado esta mal dicho)\n",
        "cifrado = \"zg gzhv lpz vidhv v gv pidqzmndyvy ivxdjivg, kjm hd mvuv cvwgvmá zg znkímdop, mzqzgv gv qjxvxdói cphviínodxv xji gv lpz apz xjixzwdyv. zg vpojm yz znov xégzwmz amvnz, ejné qvnxjixzgjn, vnphdó gv mzxojmív zi 1920, zi piv ékjxv zi lpz gvn znkzmviuvn yz gv mzqjgpxdói vúi znovwvi qdqvn, cvwív piv bmvi aé zi gv kvomdv t zg áidhj mzyziojm nz zsoziyív zi zg vhwdzioz.\"\n",
        "alfabeto = \"abcdefghijklmnopqrstuvwxyz\"\n",
        "codificado = \"a\"\n",
        "registro = \"\"\n",
        "\n",
        "print(len(alfabeto))\n",
        "# Llave ¿Posiciones de corrimiento?\n",
        "for llave in range( 1 , len(alfabeto)):\n",
        "    \n",
        "  evaluacion = detect(codificado)\n",
        "          \n",
        "  if evaluacion == \"es\":\n",
        "      registro = codificado\n",
        "    \n",
        "  codificado = \"\"\n",
        "\n",
        "  for i in range( len(cifrado)):\n",
        "        if not( cifrado[i] in alfabeto ):\n",
        "            print( cifrado[i] , end = \"\")\n",
        "            codificado = codificado + cifrado[i]\n",
        "        else:\n",
        "            index = alfabeto.index( cifrado[i] )\n",
        "            print( alfabeto[ (index + llave) % 26 ] , end = \"\" )\n",
        "            codificado = codificado + alfabeto[ (index + llave) % 26 ]\n",
        "\n",
        "  print(\"\")\n",
        "\n",
        "print(\"\\n\\n\\n\")\n",
        "print(\"El mensaje correcto es:\")\n",
        "print(\"\")\n",
        "\n",
        "print(registro)\n"
      ],
      "execution_count": 80,
      "outputs": [
        {
          "output_type": "stream",
          "name": "stdout",
          "text": [
            "26\n",
            "ah haiw mqa wjeiw w hw qjeranoezwz jwyekjwh, lkn ie nwvw dwxhwná ah aolínepq, narahw hw rkywyeój dqiwjíopeyw ykj hw mqa bqa ykjyaxezw. ah wqpkn za aopw yéhaxna bnwoa, fkoé rwoykjyahko, woqieó hw naypkníw aj 1920, aj qjw élkyw aj mqa hwo aolanwjvwo za hw narkhqyeój wúj aopwxwj rerwo, dwxíw qjw cnwj bé aj hw lwpnew u ah ájeik nazajpkn oa atpajzíw aj ah wixeajpa.\n",
            "bi ibjx nrb xkfjx x ix rkfsbopfaxa kxzflkxi, mlo jf oxwx exyixoá bi bpmíofqr, obsbix ix slzxzfók erjxkípqfzx zlk ix nrb crb zlkzbyfax. bi xrqlo ab bpqx zéibyob coxpb, glpé sxpzlkzbilp, xprjfó ix obzqloíx bk 1920, bk rkx émlzx bk nrb ixp bpmboxkwxp ab ix obslirzfók xúk bpqxyxk sfsxp, exyíx rkx doxk cé bk ix mxqofx v bi ákfjl obabkqlo pb buqbkaíx bk bi xjyfbkqb.\n",
            "cj jcky osc ylgky y jy slgtcpqgbyb lyagmlyj, nmp kg pyxy fyzjypá cj cqnípgrs, pctcjy jy tmayagól fskylíqrgay aml jy osc dsc amlaczgby. cj ysrmp bc cqry aéjczpc dpyqc, hmqé tyqamlacjmq, yqskgó jy pcarmpíy cl 1920, cl sly énmay cl osc jyq cqncpylxyq bc jy pctmjsagól yúl cqryzyl tgtyq, fyzíy sly epyl dé cl jy nyrpgy w cj álgkm pcbclrmp qc cvrclbíy cl cj ykzgclrc.\n",
            "dk kdlz ptd zmhlz z kz tmhudqrhczc mzbhnmzk, onq lh qzyz gzakzqá dk droíqhst, qdudkz kz unbzbhóm gtlzmírshbz bnm kz ptd etd bnmbdahcz. dk ztsnq cd drsz békdaqd eqzrd, inré uzrbnmbdknr, zrtlhó kz qdbsnqíz dm 1920, dm tmz éonbz dm ptd kzr drodqzmyzr cd kz qdunktbhóm zúm drszazm uhuzr, gzaíz tmz fqzm eé dm kz ozsqhz x dk ámhln qdcdmsnq rd dwsdmcíz dm dk zlahdmsd.\n",
            "el lema que anima a la universidad nacional, por mi raza hablará el espíritu, revela la vocación humanística con la que fue concebida. el autor de esta célebre frase, josé vasconcelos, asumió la rectoría en 1920, en una época en que las esperanzas de la revolución aún estaban vivas, había una gran fé en la patria y el ánimo redentor se extendía en el ambiente.\n",
            "fm mfnb rvf bojnb b mb vojwfstjebe obdjpobm, qps nj sbab ibcmbsá fm ftqísjuv, sfwfmb mb wpdbdjóo ivnboítujdb dpo mb rvf gvf dpodfcjeb. fm bvups ef ftub démfcsf gsbtf, kpté wbtdpodfmpt, btvnjó mb sfdupsíb fo 1920, fo vob éqpdb fo rvf mbt ftqfsboabt ef mb sfwpmvdjóo búo ftubcbo wjwbt, ibcíb vob hsbo gé fo mb qbusjb z fm áojnp sfefoups tf fyufoeíb fo fm bncjfouf.\n",
            "gn ngoc swg cpkoc c nc wpkxgtukfcf pcekqpcn, rqt ok tcbc jcdnctá gn gurítkvw, tgxgnc nc xqecekóp jwocpíuvkec eqp nc swg hwg eqpegdkfc. gn cwvqt fg guvc eéngdtg htcug, lqué xcueqpegnqu, cuwokó nc tgevqtíc gp 1920, gp wpc érqec gp swg ncu gurgtcpbcu fg nc tgxqnwekóp cúp guvcdcp xkxcu, jcdíc wpc itcp hé gp nc rcvtkc a gn ápkoq tgfgpvqt ug gzvgpfíc gp gn codkgpvg.\n",
            "ho ohpd txh dqlpd d od xqlyhuvlgdg qdflrqdo, sru pl udcd kdeoduá ho hvsíulwx, uhyhod od yrfdflóq kxpdqívwlfd frq od txh ixh frqfhelgd. ho dxwru gh hvwd féoheuh iudvh, mrvé ydvfrqfhorv, dvxpló od uhfwruíd hq 1920, hq xqd ésrfd hq txh odv hvshudqcdv gh od uhyroxflóq dúq hvwdedq ylydv, kdeíd xqd judq ié hq od sdwuld b ho áqlpr uhghqwru vh hawhqgíd hq ho dpelhqwh.\n",
            "ip piqe uyi ermqe e pe yrmzivwmheh regmsrep, tsv qm vede lefpevá ip iwtívmxy, vizipe pe zsgegmór lyqeríwxmge gsr pe uyi jyi gsrgifmhe. ip eyxsv hi iwxe gépifvi jvewi, nswé zewgsrgipsw, ewyqmó pe vigxsvíe ir 1920, ir yre étsge ir uyi pew iwtiverdew hi pe vizspygmór eúr iwxefer zmzew, lefíe yre kver jé ir pe texvme c ip ármqs vihirxsv wi ibxirhíe ir ip eqfmirxi.\n",
            "jq qjrf vzj fsnrf f qf zsnajwxnifi sfhntsfq, utw rn wfef mfgqfwá jq jxuíwnyz, wjajqf qf athfhnós mzrfsíxynhf hts qf vzj kzj htshjgnif. jq fzytw ij jxyf héqjgwj kwfxj, otxé afxhtshjqtx, fxzrnó qf wjhytwíf js 1920, js zsf éuthf js vzj qfx jxujwfsefx ij qf wjatqzhnós fús jxyfgfs anafx, mfgíf zsf lwfs ké js qf ufywnf d jq ásnrt wjijsytw xj jcyjsiíf js jq frgnjsyj.\n",
            "kr rksg wak gtosg g rg atobkxyojgj tgioutgr, vux so xgfg nghrgxá kr kyvíxoza, xkbkrg rg buigioót nasgtíyzoig iut rg wak lak iutikhojg. kr gazux jk kyzg iérkhxk lxgyk, puyé bgyiutikruy, gyasoó rg xkizuxíg kt 1920, kt atg évuig kt wak rgy kyvkxgtfgy jk rg xkburaioót gút kyzghgt bobgy, nghíg atg mxgt lé kt rg vgzxog e kr átosu xkjktzux yk kdzktjíg kt kr gshoktzk.\n",
            "ls slth xbl hupth h sh bupclyzpkhk uhjpvuhs, wvy tp yhgh ohishyá ls lzwíypab, ylclsh sh cvjhjpóu obthuízapjh jvu sh xbl mbl jvujlipkh. ls hbavy kl lzah jésliyl myhzl, qvzé chzjvujlsvz, hzbtpó sh yljavyíh lu 1920, lu buh éwvjh lu xbl shz lzwlyhughz kl sh ylcvsbjpóu húu lzahihu cpchz, ohiíh buh nyhu mé lu sh whayph f ls áuptv ylkluavy zl lealukíh lu ls htiplual.\n",
            "mt tmui ycm ivqui i ti cvqdmzaqlil vikqwvit, xwz uq zihi pijtizá mt maxízqbc, zmdmti ti dwkikqóv pcuivíabqki kwv ti ycm ncm kwvkmjqli. mt icbwz lm mabi kétmjzm nziam, rwaé diakwvkmtwa, iacuqó ti zmkbwzíi mv 1920, mv cvi éxwki mv ycm tia maxmzivhia lm ti zmdwtckqóv iúv mabijiv dqdia, pijíi cvi oziv né mv ti xibzqi g mt ávquw zmlmvbwz am mfbmvlíi mv mt iujqmvbm.\n",
            "nu unvj zdn jwrvj j uj dwrenabrmjm wjlrxwju, yxa vr ajij qjkujaá nu nbyíarcd, anenuj uj exljlrów qdvjwíbcrlj lxw uj zdn odn lxwlnkrmj. nu jdcxa mn nbcj léunkan oajbn, sxbé ejblxwlnuxb, jbdvró uj anlcxaíj nw 1920, nw dwj éyxlj nw zdn ujb nbynajwijb mn uj anexudlrów júw nbcjkjw erejb, qjkíj dwj pajw oé nw uj yjcarj h nu áwrvx anmnwcxa bn ngcnwmíj nw nu jvkrnwcn.\n",
            "ov vowk aeo kxswk k vk exsfobcsnkn xkmsyxkv, zyb ws bkjk rklvkbá ov oczíbsde, bofovk vk fymkmsóx rewkxícdsmk myx vk aeo peo myxmolsnk. ov kedyb no ocdk mévolbo pbkco, tycé fkcmyxmovyc, kcewsó vk bomdybík ox 1920, ox exk ézymk ox aeo vkc oczobkxjkc no vk bofyvemsóx kúx ocdklkx fsfkc, rklík exk qbkx pé ox vk zkdbsk i ov áxswy bonoxdyb co ohdoxník ox ov kwlsoxdo.\n",
            "pw wpxl bfp lytxl l wl fytgpcdtolo ylntzylw, azc xt clkl slmwlcá pw pdaíctef, cpgpwl wl gznlntóy sfxlyídetnl nzy wl bfp qfp nzynpmtol. pw lfezc op pdel néwpmcp qcldp, uzdé gldnzynpwzd, ldfxtó wl cpnezcíl py 1920, py fyl éaznl py bfp wld pdapclykld op wl cpgzwfntóy lúy pdelmly gtgld, slmíl fyl rcly qé py wl alectl j pw áytxz cpopyezc dp piepyoíl py pw lxmtpyep.\n",
            "qx xqym cgq mzuym m xm gzuhqdeupmp zmouazmx, bad yu dmlm tmnxmdá qx qebídufg, dqhqxm xm haomouóz tgymzíefuom oaz xm cgq rgq oazoqnupm. qx mgfad pq qefm oéxqndq rdmeq, vaeé hmeoazoqxae, megyuó xm dqofadím qz 1920, qz gzm ébaom qz cgq xme qebqdmzlme pq xm dqhaxgouóz múz qefmnmz huhme, tmním gzm sdmz ré qz xm bmfdum k qx ázuya dqpqzfad eq qjfqzpím qz qx mynuqzfq.\n",
            "ry yrzn dhr navzn n yn havirefvqnq anpvbany, cbe zv enmn unoyneá ry rfcíevgh, eriryn yn ibpnpvóa uhznaífgvpn pba yn dhr shr pbaprovqn. ry nhgbe qr rfgn péyroer senfr, wbfé infpbaprybf, nfhzvó yn erpgbeín ra 1920, ra han écbpn ra dhr ynf rfcrenamnf qr yn eribyhpvóa núa rfgnona ivinf, unoín han tena sé ra yn cngevn l ry áavzb erqragbe fr rkgraqín ra ry nzovragr.\n",
            "sz zsao eis obwao o zo ibwjsfgwror boqwcboz, dcf aw fono vopzofá sz sgdífwhi, fsjszo zo jcqoqwób viaobíghwqo qcb zo eis tis qcbqspwro. sz oihcf rs sgho qézspfs tfogs, xcgé jogqcbqszcg, ogiawó zo fsqhcfío sb 1920, sb ibo édcqo sb eis zog sgdsfobnog rs zo fsjcziqwób oúb sghopob jwjog, vopío ibo ufob té sb zo dohfwo m sz ábwac fsrsbhcf gs slhsbrío sb sz oapwsbhs.\n",
            "ta atbp fjt pcxbp p ap jcxktghxsps cprxdcpa, edg bx gpop wpqapgá ta theígxij, gtktap ap kdrprxóc wjbpcíhixrp rdc ap fjt ujt rdcrtqxsp. ta pjidg st thip réatqgt ugpht, ydhé kphrdcrtadh, phjbxó ap gtridgíp tc 1920, tc jcp éedrp tc fjt aph thetgpcoph st ap gtkdajrxóc púc thipqpc kxkph, wpqíp jcp vgpc ué tc ap epigxp n ta ácxbd gtstcidg ht tmitcsíp tc ta pbqxtcit.\n",
            "ub bucq gku qdycq q bq kdyluhiytqt dqsyedqb, feh cy hqpq xqrbqhá ub uifíhyjk, hulubq bq lesqsyód xkcqdíijysq sed bq gku vku sedsurytq. ub qkjeh tu uijq séburhu vhqiu, zeié lqisedsubei, qikcyó bq husjehíq ud 1920, ud kdq éfesq ud gku bqi uifuhqdpqi tu bq hulebksyód qúd uijqrqd lylqi, xqríq kdq whqd vé ud bq fqjhyq o ub ádyce hutudjeh iu unjudtíq ud ub qcryudju.\n",
            "vc cvdr hlv rezdr r cr lezmvijzuru ertzferc, gfi dz irqr yrscriá vc vjgíizkl, ivmvcr cr mftrtzóe yldreíjkztr tfe cr hlv wlv tfetvszur. vc rlkfi uv vjkr técvsiv wirjv, afjé mrjtfetvcfj, rjldzó cr ivtkfiír ve 1920, ve ler égftr ve hlv crj vjgvireqrj uv cr ivmfcltzóe rúe vjkrsre mzmrj, yrsír ler xire wé ve cr grkizr p vc áezdf ivuvekfi jv vokveuír ve vc rdszvekv.\n",
            "wd dwes imw sfaes s ds mfanwjkavsv fsuagfsd, hgj ea jsrs zstdsjá wd wkhíjalm, jwnwds ds ngusuaóf zmesfíklaus ugf ds imw xmw ugfuwtavs. wd smlgj vw wkls uédwtjw xjskw, bgké nskugfuwdgk, skmeaó ds jwulgjís wf 1920, wf mfs éhgus wf imw dsk wkhwjsfrsk vw ds jwngdmuaóf súf wklstsf nansk, zstís mfs yjsf xé wf ds hsljas q wd áfaeg jwvwflgj kw wplwfvís wf wd setawflw.\n",
            "xe exft jnx tgbft t et ngboxklbwtw gtvbhgte, ihk fb ktst atuetká xe xliíkbmn, kxoxet et ohvtvbóg anftgílmbvt vhg et jnx ynx vhgvxubwt. xe tnmhk wx xlmt véexukx yktlx, chlé otlvhgvxehl, tlnfbó et kxvmhkít xg 1920, xg ngt éihvt xg jnx etl xlixktgstl wx et kxohenvbóg túg xlmtutg obotl, atuít ngt zktg yé xg et itmkbt r xe ágbfh kxwxgmhk lx xqmxgwít xg xe tfubxgmx.\n",
            "yf fygu koy uhcgu u fu ohcpylmcxux huwcihuf, jil gc lutu buvfulá yf ymjílcno, lypyfu fu piwuwcóh boguhímncwu wih fu koy zoy wihwyvcxu. yf uonil xy ymnu wéfyvly zlumy, dimé pumwihwyfim, umogcó fu lywnilíu yh 1920, yh ohu éjiwu yh koy fum ymjyluhtum xy fu lypifowcóh uúh ymnuvuh pcpum, buvíu ohu aluh zé yh fu junlcu s yf áhcgi lyxyhnil my yrnyhxíu yh yf ugvcyhny.\n",
            "\n",
            "\n",
            "\n",
            "\n",
            "El mensaje correcto es:\n",
            "\n",
            "el lema que anima a la universidad nacional, por mi raza hablará el espíritu, revela la vocación humanística con la que fue concebida. el autor de esta célebre frase, josé vasconcelos, asumió la rectoría en 1920, en una época en que las esperanzas de la revolución aún estaban vivas, había una gran fé en la patria y el ánimo redentor se extendía en el ambiente.\n"
          ]
        }
      ]
    },
    {
      "cell_type": "code",
      "metadata": {
        "colab": {
          "base_uri": "https://localhost:8080/"
        },
        "id": "DLqYtx14sVew",
        "outputId": "5f2eb453-942c-4fc4-dbed-d1d159a83d4d"
      },
      "source": [
        "pip install langdetect"
      ],
      "execution_count": 37,
      "outputs": [
        {
          "output_type": "stream",
          "name": "stdout",
          "text": [
            "Collecting langdetect\n",
            "  Downloading langdetect-1.0.9.tar.gz (981 kB)\n",
            "\u001b[K     |████████████████████████████████| 981 kB 5.2 MB/s \n",
            "\u001b[?25hRequirement already satisfied: six in /usr/local/lib/python3.7/dist-packages (from langdetect) (1.15.0)\n",
            "Building wheels for collected packages: langdetect\n",
            "  Building wheel for langdetect (setup.py) ... \u001b[?25l\u001b[?25hdone\n",
            "  Created wheel for langdetect: filename=langdetect-1.0.9-py3-none-any.whl size=993242 sha256=495a947128774fbd806ec67db9b35f9da6cadf2abc8b5ea5fc7c531cd1b6de77\n",
            "  Stored in directory: /root/.cache/pip/wheels/c5/96/8a/f90c59ed25d75e50a8c10a1b1c2d4c402e4dacfa87f3aff36a\n",
            "Successfully built langdetect\n",
            "Installing collected packages: langdetect\n",
            "Successfully installed langdetect-1.0.9\n"
          ]
        }
      ]
    },
    {
      "cell_type": "markdown",
      "metadata": {
        "id": "FumdWIYllLhB"
      },
      "source": [
        "Mejorar el algoritmo para que discrimine los textos no claros y solamente muestre el mensaje tangible."
      ]
    },
    {
      "cell_type": "code",
      "metadata": {
        "colab": {
          "base_uri": "https://localhost:8080/",
          "height": 355
        },
        "id": "qxk6JDOKmYYk",
        "outputId": "86d87ec7-e518-4131-c9e7-2f5db09b1c36"
      },
      "source": [
        "from matplotlib import pyplot as plt\n",
        "import random\n",
        "import math\n",
        "\n",
        "pares = []\n",
        "for i in range(30):\n",
        "    pares.append( [ random.randint(1,100) , random.randint(1,100) ] )\n",
        "print(pares)\n",
        "\n",
        "for par in pares:\n",
        "    plt.scatter(par[0],par[1] , s=3 ,c=\"b\"  )\n",
        "#resultado = math.sqrt((pow(((x2-x1)),2))+(pow(((y2-y1)),2)))\n",
        "\n",
        "def distancia( p1 , p2): #pares\n",
        "    dis = math.sqrt((pow(((p2[0]-p1[0])),2))+(pow(((p2[1]-p1[1])),2)))\n",
        "    return dis\n",
        "\n",
        "print(distancia ( [32 , 96] , [68 , 90] ) )\n",
        "\n",
        "menor = 99999\n",
        "d = 0\n",
        "par_menor = []\n",
        "\n",
        "for i in range( len(pares) ):\n",
        "    for j in range(len (pares) ):\n",
        "        d = distancia( pares[i] , pares[j] )\n",
        "        if d < menor and d != 0.0:\n",
        "            menor = d\n",
        "            par_menor.clear()\n",
        "            par_menor.append( pares[i] )\n",
        "            par_menor.append( pares[j] )\n",
        "\n",
        "print(menor)\n",
        "print( par_menor[0] , par_menor[1] )"
      ],
      "execution_count": null,
      "outputs": [
        {
          "name": "stdout",
          "output_type": "stream",
          "text": [
            "[[55, 60], [11, 84], [66, 85], [71, 52], [74, 1], [33, 87], [76, 25], [17, 7], [28, 68], [29, 26], [7, 72], [50, 44], [64, 67], [14, 19], [69, 9], [78, 43], [81, 12], [49, 98], [100, 17], [23, 97], [3, 86], [22, 87], [54, 29], [56, 79], [53, 16], [58, 43], [96, 86], [55, 47], [60, 12], [67, 70]]\n",
            "36.49657518178932\n",
            "4.242640687119285\n",
            "[64, 67] [67, 70]\n"
          ]
        },
        {
          "data": {
            "image/png": "[encoded data removed]",
            "text/plain": [
              "<Figure size 432x288 with 1 Axes>"
            ]
          },
          "metadata": {},
          "output_type": "display_data"
        }
      ]
    },
    {
      "cell_type": "markdown",
      "metadata": {
        "id": "8-fWdLqlxZej"
      },
      "source": [
        "![Plano_Cartesiano.jpg](data:image/jpeg;base64,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)"
      ]
    },
    {
      "cell_type": "markdown",
      "metadata": {
        "id": "lEDrI1LRkgdp"
      },
      "source": [
        "#DIVIDE Y VENCERAS"
      ]
    },
    {
      "cell_type": "code",
      "metadata": {
        "colab": {
          "base_uri": "https://localhost:8080/"
        },
        "id": "rfiujK5PklaU",
        "outputId": "b0c2717f-5d8e-43d8-adaa-e6c085167dda"
      },
      "source": [
        "# Buscar el elemento mas grande dentro de un array (lista)\n",
        "\n",
        "def maximo_recursivo ( data ):\n",
        "    if len(data) == 2:\n",
        "        return data[0] if data[0]>data[1] else data[1]\n",
        "    elif len(data) == 1:\n",
        "        return data[0]\n",
        "    else:\n",
        "        mid = len(data) // 2\n",
        "        I = maximo_recursivo ( data[:mid:] )\n",
        "        D = maximo_recursivo ( data[mid::] )\n",
        "        return I if I>D else D\n",
        "\n",
        "info =[2,3,1,13,44,12,323,45,23,54,63,21,4,5,33,75]\n",
        "print( maximo_recursivo(info))"
      ],
      "execution_count": null,
      "outputs": [
        {
          "name": "stdout",
          "output_type": "stream",
          "text": [
            "9999\n"
          ]
        }
      ]
    },
    {
      "cell_type": "markdown",
      "metadata": {
        "id": "nSE2P7C7GPXG"
      },
      "source": [
        "#QuickSort"
      ]
    },
    {
      "cell_type": "code",
      "metadata": {
        "colab": {
          "base_uri": "https://localhost:8080/"
        },
        "id": "IKZ7biAJHf_J",
        "outputId": "a1daa235-aadc-41a9-86ef-e7988ec6f1c5"
      },
      "source": [
        "def dyv (lista):\n",
        "\n",
        "    piv = lista[0]\n",
        "    menores = []\n",
        "    mayores = []\n",
        "\n",
        "    for i in range(1, len(lista)):\n",
        "        if lista[i] < piv:\n",
        "            menores.append(lista[i])\n",
        "        else:\n",
        "            mayores.append(lista[i])\n",
        "    \n",
        "    return menores, piv, mayores\n",
        "\n",
        "def quicksort(lista):\n",
        "\n",
        "    if len(lista) < 2:\n",
        "        return lista  \n",
        "\n",
        "    menores, piv, mayores = dyv(lista)\n",
        "\n",
        "    return quicksort(menores) + [piv] + quicksort(mayores)\n",
        "\n",
        "lista = [2,6,3,7,9,1,8,5,4]\n",
        "\n",
        "print(quicksort(lista))"
      ],
      "execution_count": null,
      "outputs": [
        {
          "name": "stdout",
          "output_type": "stream",
          "text": [
            "[1, 2, 3, 4, 5, 6, 7, 8, 9]\n"
          ]
        }
      ]
    }
  ]
}