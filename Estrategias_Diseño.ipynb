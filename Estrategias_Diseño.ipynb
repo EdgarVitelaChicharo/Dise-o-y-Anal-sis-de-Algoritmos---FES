{
  "nbformat": 4,
  "nbformat_minor": 0,
  "metadata": {
    "colab": {
      "name": "Estrategias_Diseño.ipynb",
      "provenance": [],
      "authorship_tag": "ABX9TyMtERKFZ2E9FDxUnt9DNYkp",
      "include_colab_link": true
    },
    "kernelspec": {
      "name": "python3",
      "display_name": "Python 3"
    },
    "language_info": {
      "name": "python"
    }
  },
  "cells": [
    {
      "cell_type": "markdown",
      "metadata": {
        "id": "view-in-github",
        "colab_type": "text"
      },
      "source": [
        "<a href=\"https://colab.research.google.com/github/EdgarVitelaChicharo/Dise-o-y-Anal-sis-de-Algoritmos---FES/blob/main/Estrategias_Dise%C3%B1o.ipynb\" target=\"_parent\"><img src=\"https://colab.research.google.com/assets/colab-badge.svg\" alt=\"Open In Colab\"/></a>"
      ]
    },
    {
      "cell_type": "markdown",
      "metadata": {
        "id": "aOKFiG0iYcZ-"
      },
      "source": [
        "#Fuerza Bruta\n"
      ]
    },
    {
      "cell_type": "markdown",
      "metadata": {
        "id": "XoPaH-9UYiNJ"
      },
      "source": [
        "Ejemplo 1, busqueda de patrones de texto."
      ]
    },
    {
      "cell_type": "code",
      "metadata": {
        "colab": {
          "base_uri": "https://localhost:8080/"
        },
        "id": "4-IYM0dfYjxI",
        "outputId": "7e290afa-391d-409a-f084-943e635bceab"
      },
      "source": [
        "def string_match_brute( A , P ):\n",
        "    for i in range( len(A) - len(P) + 1   ):\n",
        "        for j in range( len(P) ):\n",
        "            if P[j] == A[ i+j ]:\n",
        "                pass\n",
        "            else:\n",
        "                break\n",
        "        if j+1 == len(P) and A[i+j] == P[ j ]:\n",
        "            print(f\"Se encontró en la posición:{ i }\")\n",
        "\n",
        "entrada = \"001110010101101110101101\"\n",
        "patron = \"01101\"\n",
        "string_match_brute(entrada , patron)\n",
        "              "
      ],
      "execution_count": 12,
      "outputs": [
        {
          "output_type": "stream",
          "name": "stdout",
          "text": [
            "Se encontró en la posición:10\n",
            "Se encontró en la posición:19\n"
          ]
        }
      ]
    }
  ]
}