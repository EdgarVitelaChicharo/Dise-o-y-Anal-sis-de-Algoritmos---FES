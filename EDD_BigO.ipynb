{
  "nbformat": 4,
  "nbformat_minor": 0,
  "metadata": {
    "colab": {
      "name": "EDD_BigO.ipynb",
      "provenance": [],
      "authorship_tag": "ABX9TyNXE10uGyD7CZomJ/F4EgP0",
      "include_colab_link": true
    },
    "kernelspec": {
      "name": "python3",
      "display_name": "Python 3"
    },
    "language_info": {
      "name": "python"
    }
  },
  "cells": [
    {
      "cell_type": "markdown",
      "metadata": {
        "id": "view-in-github",
        "colab_type": "text"
      },
      "source": [
        "<a href=\"https://colab.research.google.com/github/EdgarVitelaChicharo/Dise-o-y-Anal-sis-de-Algoritmos---FES/blob/main/EDD_BigO.ipynb\" target=\"_parent\"><img src=\"https://colab.research.google.com/assets/colab-badge.svg\" alt=\"Open In Colab\"/></a>"
      ]
    },
    {
      "cell_type": "markdown",
      "metadata": {
        "id": "LRPvkVtYFCB6"
      },
      "source": [
        "#Arboles binarios\n",
        "Estructura de datos conformada por datos, tendran nodos y seran como maximo 2 hijos.\n",
        "\n",
        "#Arboles binarios de busqueda"
      ]
    },
    {
      "cell_type": "code",
      "metadata": {
        "id": "zXy9GCEEKyAT"
      },
      "source": [
        "class NodoArbol:\n",
        "  def __init__( self , value , left=None , right=None):\n",
        "    self.data = value\n",
        "    self.left = left\n",
        "    self.right = right\n",
        "\n",
        "class ArbolBB:\n",
        "    def __init__( self):\n",
        "      pass\n",
        "      "
      ],
      "execution_count": 13,
      "outputs": []
    },
    {
      "cell_type": "code",
      "metadata": {
        "colab": {
          "base_uri": "https://localhost:8080/"
        },
        "id": "IP_aom6uL8FB",
        "outputId": "23afbee9-c2d7-4e33-a21a-5ea8c59ab4b4"
      },
      "source": [
        "raiz = NodoArbol( 60 , None , None)\n",
        "raiz.left = NodoArbol( 40 , None , None)\n",
        "print(raiz.left.data)\n",
        "\n",
        "#Lo mismo pero como programador Ninja\n",
        "raiz = NodoArbol( 60, NodoArbol(40), None)\n",
        "print(raiz.left.data)\n",
        "\n",
        "raiz = NodoArbol( 60 , NodoArbol(40, NodoArbol(30)) , NodoArbol(70))\n",
        "print(raiz.left.left.data)"
      ],
      "execution_count": 15,
      "outputs": [
        {
          "output_type": "stream",
          "name": "stdout",
          "text": [
            "40\n",
            "40\n",
            "30\n"
          ]
        }
      ]
    }
  ]
}