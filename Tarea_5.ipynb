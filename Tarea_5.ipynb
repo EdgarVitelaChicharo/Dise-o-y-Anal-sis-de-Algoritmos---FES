{
  "nbformat": 4,
  "nbformat_minor": 0,
  "metadata": {
    "colab": {
      "name": "Tarea_5.ipynb",
      "provenance": [],
      "authorship_tag": "ABX9TyNh3y0Zq4VE5JGBSDG+Va8R",
      "include_colab_link": true
    },
    "kernelspec": {
      "name": "python3",
      "display_name": "Python 3"
    },
    "language_info": {
      "name": "python"
    }
  },
  "cells": [
    {
      "cell_type": "markdown",
      "metadata": {
        "id": "view-in-github",
        "colab_type": "text"
      },
      "source": [
        "<a href=\"https://colab.research.google.com/github/EdgarVitelaChicharo/Dise-o-y-Anal-sis-de-Algoritmos---FES/blob/main/Tarea_5.ipynb\" target=\"_parent\"><img src=\"https://colab.research.google.com/assets/colab-badge.svg\" alt=\"Open In Colab\"/></a>"
      ]
    },
    {
      "cell_type": "markdown",
      "metadata": {
        "id": "KFh7-QJ-50wR"
      },
      "source": [
        "Tarea 5\n",
        "Te encuentras en un país cuyas denominaciones de monedas y billetes son las siguientes:\n",
        "\n",
        "Monedas: 20,10,5,1 y 0.5\n",
        "Billetes de:100, 200 , 500\n",
        "\n",
        "En una empresa que tiene venta al público desea calcular las denominaciones de forma automática, para lo cual se requiere que diseñes un método (o función) que dado un monto (>0), calcule las denominaciones y cantidad de billetes y/o monedas"
      ]
    },
    {
      "cell_type": "code",
      "metadata": {
        "colab": {
          "base_uri": "https://localhost:8080/"
        },
        "id": "9ZMmg5Me6Drc",
        "outputId": "f23f58ba-24c1-4d34-c615-67e86a23da84"
      },
      "source": [
        "cantidad = 6376;          # O(1 * 4 )   O(1)\n",
        "quinientos = 0            # O(1 * 4 )   O(1)\n",
        "doscientos = 0            # O(1 * 4 )   O(1)\n",
        "cien = 0                  # O(1 * 4 )   O(1)\n",
        "veinte = 0                # O(1 * 4 )   O(1)\n",
        "diez = 0                  # O(1 * 4 )   O(1)\n",
        "cinco = 0                 # O(1 * 4 )   O(1)\n",
        "uno = 0                   # O(1 * 4 )   O(1)\n",
        "puntoCinco = 0            # O(1 * 4 )   O(1)\n",
        "\n",
        "if (cantidad >= 500):\n",
        "  quinientos = cantidad / 500                 # O(0)   O(1)\n",
        "  cantidad = cantidad % 500                   # O(0)   O(1) \n",
        "  quinientos = int (quinientos)               # O(0)   O(1)\n",
        "  print (f\"{quinientos} billetes de 500\")     \n",
        "\n",
        "if (cantidad >= 200):\n",
        "  doscientos = cantidad / 200                 # O(0)   O(1)\n",
        "  cantidad = cantidad % 200                   # O(0)   O(1)\n",
        "  doscientos = int (doscientos)               # O(0)   O(1)\n",
        "  print (f\"{doscientos} billetes de 200\")     \n",
        "\n",
        "if (cantidad >= 100):\n",
        "  cien = cantidad / 100                       # O(0)   O(1)\n",
        "  cantidad = cantidad % 100                   # O(0)   O(1)\n",
        "  cien = int (cien)                           # O(0)   O(1)\n",
        "  print (f\"{cien} billetes de 100\")           \n",
        "\n",
        "if (cantidad >= 20):\n",
        "  veinte = cantidad / 20                      # O(0)   O(1)\n",
        "  cantidad = cantidad % 20                    # O(0)   O(1)\n",
        "  veinte = int (veinte)                       # O(0)   O(1)\n",
        "  print (f\"{veinte} monedas de 20\")           \n",
        "\n",
        "if (cantidad >= 10):\n",
        "  diez = cantidad / 10                        # O(0)   O(1)\n",
        "  cantidad = cantidad % 10                    # O(0)   O(1)\n",
        "  diez = int (diez)                           # O(0)   O(1)\n",
        "  print (f\"{diez} monedas de 10\")             \n",
        "\n",
        "if (cantidad >= 5):\n",
        "  cinco = cantidad / 5                        # O(0)   O(1)\n",
        "  cantidad = cantidad % 5                     # O(0)   O(1)\n",
        "  cinco = int (cinco)                         # O(0)   O(1)\n",
        "  print (f\"{cinco} monedas de 5\")             \n",
        "\n",
        "if (cantidad >= 1):\n",
        "  uno = cantidad / 1                          # O(0)   O(1)\n",
        "  cantidad = cantidad % 1                     # O(0)   O(1)\n",
        "  uno = int (uno)                             # O(0)   O(1)\n",
        "  print (f\"{uno} monedas de 1\")               \n",
        "\n",
        "if (cantidad >= 0.5):\n",
        "  puntoCinco = cantidad / 0.5                 # O(0)   O(1)\n",
        "  cantidad = cantidad % 0.5                   # O(0)   O(1)\n",
        "  puntoCinco = int (puntoCinco)               # O(0)   O(1)\n",
        "  print (f\"{puntoCinco} monedas de 0.5\")      \n",
        "\n",
        "# Memoria     O(4+4+4+4+4+4+4+4+4) = O (36)\n",
        "# Procesador  O(3+3+3+3+3+3+3+3+9) = O (33)\n"
      ],
      "execution_count": 31,
      "outputs": [
        {
          "output_type": "stream",
          "name": "stdout",
          "text": [
            "12 billetes de 500\n",
            "1 billetes de 200\n",
            "1 billetes de 100\n",
            "3 monedas de 20\n",
            "1 monedas de 10\n",
            "1 monedas de 5\n",
            "1 monedas de 1\n"
          ]
        }
      ]
    }
  ]
}