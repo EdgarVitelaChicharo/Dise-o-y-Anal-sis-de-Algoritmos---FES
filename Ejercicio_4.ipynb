{
  "nbformat": 4,
  "nbformat_minor": 0,
  "metadata": {
    "colab": {
      "name": "Ejercicio 4",
      "provenance": [],
      "collapsed_sections": []
    },
    "kernelspec": {
      "name": "python3",
      "display_name": "Python 3"
    },
    "language_info": {
      "name": "python"
    }
  },
  "cells": [
    {
      "cell_type": "markdown",
      "metadata": {
        "id": "6St1k-yDzN_O"
      },
      "source": [
        "Ejercicio 4"
      ]
    },
    {
      "cell_type": "code",
      "metadata": {
        "colab": {
          "base_uri": "https://localhost:8080/"
        },
        "id": "sk9Jg4-_2Nin",
        "outputId": "4239375d-76d8-4072-8ae2-a962139c6e11"
      },
      "source": [
        "def busqueda_lineal( lista , val_a_buscar ):\n",
        "    contador = 0\n",
        "    for x in range( len(lista) ):\n",
        "        contador += 1\n",
        "        if lista[ x ] == val_a_buscar :\n",
        "            print(f\"Encontrado en la posición { x }\")\n",
        "            break\n",
        "    return contador\n",
        "\n",
        "numeros = [ 2,3,1,23,8,24,25,10,100,35,8 ]\n",
        "comparaciones = busqueda_lineal ( numeros , 8 )\n",
        "print(f\"{comparaciones} comparaciones \")"
      ],
      "execution_count": null,
      "outputs": [
        {
          "output_type": "stream",
          "name": "stdout",
          "text": [
            "Encontrado en la posición 4\n",
            "5 comparaciones \n"
          ]
        }
      ]
    },
    {
      "cell_type": "markdown",
      "metadata": {
        "id": "_pj6ZB1bTJjs"
      },
      "source": [
        "Github: https://github.com/EdgarVitelaChicharo/Dise-o-y-Anal-sis-de-Algoritmos---FES"
      ]
    }
  ]
}